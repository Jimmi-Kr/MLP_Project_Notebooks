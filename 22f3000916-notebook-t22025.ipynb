{
 "cells": [
  {
   "cell_type": "markdown",
   "id": "2c13be93",
   "metadata": {
    "papermill": {
     "duration": 0.009718,
     "end_time": "2025-07-27T09:39:11.048100",
     "exception": false,
     "start_time": "2025-07-27T09:39:11.038382",
     "status": "completed"
    },
    "tags": []
   },
   "source": [
    "# Engage 2: Value from Clicks to Conversions\n",
    "\n",
    "### Goal:\n",
    "This notebook analyzes user engagement data to predict purchase values from click-through data. The goal is to build a robust regression model that can accurately predict the purchase value based on various user interaction features.\n",
    "\n",
    "### Content:\n",
    "1. *Data Loading and Setup*\n",
    "2. *Exploratory Data Analysis (EDA)*\n",
    "3. *Data Preprocessing and Feature Engineering*\n",
    "4. *Model Development and Hyperparameter Tuning*\n",
    "5. *Model Comparison and Performance Analysis*\n",
    "6. *Final Submission*"
   ]
  },
  {
   "cell_type": "markdown",
   "id": "c4595816",
   "metadata": {
    "papermill": {
     "duration": 0.008197,
     "end_time": "2025-07-27T09:39:11.065536",
     "exception": false,
     "start_time": "2025-07-27T09:39:11.057339",
     "status": "completed"
    },
    "tags": []
   },
   "source": [
    "# 1. Importing Required Libraries"
   ]
  },
  {
   "cell_type": "code",
   "execution_count": 1,
   "id": "49fe0520",
   "metadata": {
    "execution": {
     "iopub.execute_input": "2025-07-27T09:39:11.084096Z",
     "iopub.status.busy": "2025-07-27T09:39:11.083173Z",
     "iopub.status.idle": "2025-07-27T09:39:14.907880Z",
     "shell.execute_reply": "2025-07-27T09:39:14.906948Z"
    },
    "papermill": {
     "duration": 3.835853,
     "end_time": "2025-07-27T09:39:14.909623",
     "exception": false,
     "start_time": "2025-07-27T09:39:11.073770",
     "status": "completed"
    },
    "tags": []
   },
   "outputs": [],
   "source": [
    "import numpy as np \n",
    "import pandas as pd \n",
    "import matplotlib.pyplot as plt\n",
    "import warnings\n",
    "warnings.filterwarnings('ignore')\n",
    "\n",
    "#Machine Learning libraries\n",
    "from sklearn.model_selection import train_test_split\n",
    "from sklearn.ensemble import RandomForestRegressor, ExtraTreesRegressor\n",
    "from sklearn.impute import SimpleImputer\n",
    "from sklearn.preprocessing import StandardScaler, OrdinalEncoder, LabelEncoder\n",
    "from sklearn.pipeline import Pipeline\n",
    "from sklearn.compose import ColumnTransformer\n",
    "from sklearn.metrics import r2_score\n",
    "import xgboost as xgb"
   ]
  },
  {
   "cell_type": "markdown",
   "id": "76116da0",
   "metadata": {
    "papermill": {
     "duration": 0.00816,
     "end_time": "2025-07-27T09:39:14.926787",
     "exception": false,
     "start_time": "2025-07-27T09:39:14.918627",
     "status": "completed"
    },
    "tags": []
   },
   "source": [
    "# 2. Loading Data"
   ]
  },
  {
   "cell_type": "code",
   "execution_count": 2,
   "id": "4e6bf44e",
   "metadata": {
    "execution": {
     "iopub.execute_input": "2025-07-27T09:39:14.945218Z",
     "iopub.status.busy": "2025-07-27T09:39:14.944773Z",
     "iopub.status.idle": "2025-07-27T09:39:14.952589Z",
     "shell.execute_reply": "2025-07-27T09:39:14.951557Z"
    },
    "papermill": {
     "duration": 0.018528,
     "end_time": "2025-07-27T09:39:14.953873",
     "exception": false,
     "start_time": "2025-07-27T09:39:14.935345",
     "status": "completed"
    },
    "tags": []
   },
   "outputs": [
    {
     "name": "stdout",
     "output_type": "stream",
     "text": [
      "/kaggle/input/engage-2-value-from-clicks-to-conversions/sample_submission.csv\n",
      "/kaggle/input/engage-2-value-from-clicks-to-conversions/train_data.csv\n",
      "/kaggle/input/engage-2-value-from-clicks-to-conversions/test_data.csv\n"
     ]
    }
   ],
   "source": [
    "# To check available data files\n",
    "import os\n",
    "for dirname, _, filenames in os.walk('/kaggle/input'):\n",
    "    for filename in filenames:\n",
    "        print(os.path.join(dirname, filename))"
   ]
  },
  {
   "cell_type": "code",
   "execution_count": 3,
   "id": "f5075935",
   "metadata": {
    "execution": {
     "iopub.execute_input": "2025-07-27T09:39:14.972649Z",
     "iopub.status.busy": "2025-07-27T09:39:14.972343Z",
     "iopub.status.idle": "2025-07-27T09:39:17.644885Z",
     "shell.execute_reply": "2025-07-27T09:39:17.643850Z"
    },
    "papermill": {
     "duration": 2.683625,
     "end_time": "2025-07-27T09:39:17.646418",
     "exception": false,
     "start_time": "2025-07-27T09:39:14.962793",
     "status": "completed"
    },
    "tags": []
   },
   "outputs": [
    {
     "name": "stdout",
     "output_type": "stream",
     "text": [
      "Data loaded successfully!\n",
      "\n",
      "Training data shape: (116023, 52)\n",
      "Test data shape: (29006, 51)\n"
     ]
    }
   ],
   "source": [
    "# Loading datasets\n",
    "file_path_train = '/kaggle/input/engage-2-value-from-clicks-to-conversions/train_data.csv'\n",
    "file_path_test = '/kaggle/input/engage-2-value-from-clicks-to-conversions/test_data.csv'\n",
    "file_path_submission = '/kaggle/input/engage-2-value-from-clicks-to-conversions/sample_submission.csv'\n",
    "\n",
    "# Assigning Variables\n",
    "train_original = pd.read_csv(file_path_train)\n",
    "test_original = pd.read_csv(file_path_test)\n",
    "submission_format = pd.read_csv(file_path_submission)\n",
    "\n",
    "# Working copies\n",
    "train = train_original.copy()\n",
    "test = test_original.copy()\n",
    "\n",
    "\n",
    "print(f\"Data loaded successfully!\\n\")\n",
    "print(f\"Training data shape: {train.shape}\")\n",
    "print(f\"Test data shape: {test.shape}\")"
   ]
  },
  {
   "cell_type": "markdown",
   "id": "cd376fa4",
   "metadata": {
    "papermill": {
     "duration": 0.008564,
     "end_time": "2025-07-27T09:39:17.664009",
     "exception": false,
     "start_time": "2025-07-27T09:39:17.655445",
     "status": "completed"
    },
    "tags": []
   },
   "source": [
    "# 3. Exploratory Data Analysis (EDA)"
   ]
  },
  {
   "cell_type": "code",
   "execution_count": 4,
   "id": "d26a4943",
   "metadata": {
    "execution": {
     "iopub.execute_input": "2025-07-27T09:39:17.683046Z",
     "iopub.status.busy": "2025-07-27T09:39:17.682740Z",
     "iopub.status.idle": "2025-07-27T09:39:17.687554Z",
     "shell.execute_reply": "2025-07-27T09:39:17.686645Z"
    },
    "papermill": {
     "duration": 0.01625,
     "end_time": "2025-07-27T09:39:17.689198",
     "exception": false,
     "start_time": "2025-07-27T09:39:17.672948",
     "status": "completed"
    },
    "tags": []
   },
   "outputs": [],
   "source": [
    "pd.set_option('display.float_format', '{:.2f}'.format) #for better readability "
   ]
  },
  {
   "cell_type": "markdown",
   "id": "466545c2",
   "metadata": {
    "papermill": {
     "duration": 0.008544,
     "end_time": "2025-07-27T09:39:17.706587",
     "exception": false,
     "start_time": "2025-07-27T09:39:17.698043",
     "status": "completed"
    },
    "tags": []
   },
   "source": [
    "## 3.1 Dataset Overview and Basic Statistics"
   ]
  },
  {
   "cell_type": "markdown",
   "id": "23d9a4e0",
   "metadata": {
    "papermill": {
     "duration": 0.00889,
     "end_time": "2025-07-27T09:39:17.724202",
     "exception": false,
     "start_time": "2025-07-27T09:39:17.715312",
     "status": "completed"
    },
    "tags": []
   },
   "source": [
    "### Feature Details\n",
    "\n",
    "**1. User Behavior & Session Metrics**\n",
    "  \n",
    "* *totalHits, pageViews, totals.bounces, new_visits, totals.visits:*\n",
    "\n",
    "  Indicators of user engagement and session activity.\n",
    "\n",
    "* *sessionNumber, sessionStart:*\n",
    "\n",
    "  Information related to session sequence and timing.\n",
    "\n",
    "**2. Device & Technical Attributes**\n",
    "* *deviceType, os, browser, screenSize, device.browserSize, device.language:*\n",
    "\n",
    "  Details about the user's device and browsing environment.\n",
    "\n",
    "* *browserMajor, device.:*\n",
    "\n",
    "    Encompasses a variety of device-level descriptors such as model, version, and screen specifications.\n",
    "\n",
    "* *gclIdPresent:*\n",
    "\n",
    "  Signals the presence of a Google Click ID used in ad tracking.\n",
    "\n",
    "**3. Traffic & Marketing Source**\n",
    "* *userChannel, trafficSource, trafficSource.medium, trafficSource.keyword, trafficSource.campaign:*\n",
    "\n",
    "  Insights into how users arrived at the platform.\n",
    "\n",
    "* *trafficSource.adwordsClickInfo.:*\n",
    "\n",
    "   Contains attributes from advertising sources, including ad network type and slot.\n",
    "\n",
    "* *trafficSource.adContent, trafficSource.referralPath, trafficSource.isTrueDirect:*\n",
    "\n",
    "  Provide further attribution details.\n",
    "\n",
    "**4. Geographical Context**\n",
    "* *geoNetwork.city, locationCountry, geoNetwork.continent, geoNetwork.subContinent, geoNetwork.metro, geoNetwork.region:*\n",
    "\n",
    "  Geographic identifiers to help understand regional behavior trends.\n",
    "  \n",
    "* *geoCluster, locationZone:*\n",
    "\n",
    "    Groupings based on geographic or behavioral patterns.\n",
    "\n",
    "**5. Identifiers**\n",
    "* *userId, sessionId:*\n",
    "\n",
    "  Unique identifiers for each user and session, allowing for multi-session analysis.\n",
    "**Target Variable**\n",
    "  \n",
    "* *purchaseValue:*\n",
    "\n",
    "  The amount (in currency units) spent by the customer during the session. This is the target variable to be predicted."
   ]
  },
  {
   "cell_type": "code",
   "execution_count": 5,
   "id": "df6d6bb1",
   "metadata": {
    "execution": {
     "iopub.execute_input": "2025-07-27T09:39:17.743693Z",
     "iopub.status.busy": "2025-07-27T09:39:17.743379Z",
     "iopub.status.idle": "2025-07-27T09:39:17.755189Z",
     "shell.execute_reply": "2025-07-27T09:39:17.754172Z"
    },
    "papermill": {
     "duration": 0.02327,
     "end_time": "2025-07-27T09:39:17.756647",
     "exception": false,
     "start_time": "2025-07-27T09:39:17.733377",
     "status": "completed"
    },
    "tags": []
   },
   "outputs": [
    {
     "name": "stdout",
     "output_type": "stream",
     "text": [
      "==================================================\n",
      "------------ Dataset Shape and Datatypes ------------\n",
      "==================================================\n",
      "Shape: (116023, 52)\n",
      "\n",
      "Column Data types:\n",
      "object     37\n",
      "int64       9\n",
      "float64     5\n",
      "bool        1\n",
      "Name: count, dtype: int64\n"
     ]
    }
   ],
   "source": [
    "# Dataset shape and datatypes\n",
    "print(\"=\" * 50)\n",
    "print(\"-\"*12,\"Dataset Shape and Datatypes\",\"-\"*12)\n",
    "print(\"=\" * 50)\n",
    "print(f\"Shape: {train.shape}\")\n",
    "print(\"\\nColumn Data types:\")\n",
    "print(train.dtypes.value_counts())"
   ]
  },
  {
   "cell_type": "code",
   "execution_count": 6,
   "id": "75fbf4ea",
   "metadata": {
    "execution": {
     "iopub.execute_input": "2025-07-27T09:39:17.776564Z",
     "iopub.status.busy": "2025-07-27T09:39:17.775637Z",
     "iopub.status.idle": "2025-07-27T09:39:17.810911Z",
     "shell.execute_reply": "2025-07-27T09:39:17.809998Z"
    },
    "papermill": {
     "duration": 0.04655,
     "end_time": "2025-07-27T09:39:17.812199",
     "exception": false,
     "start_time": "2025-07-27T09:39:17.765649",
     "status": "completed"
    },
    "tags": []
   },
   "outputs": [
    {
     "name": "stdout",
     "output_type": "stream",
     "text": [
      "\n",
      "==================================================\n",
      "--------------- FIRST 5 ROWS ---------------\n",
      "==================================================\n"
     ]
    },
    {
     "data": {
      "text/html": [
       "<div>\n",
       "<style scoped>\n",
       "    .dataframe tbody tr th:only-of-type {\n",
       "        vertical-align: middle;\n",
       "    }\n",
       "\n",
       "    .dataframe tbody tr th {\n",
       "        vertical-align: top;\n",
       "    }\n",
       "\n",
       "    .dataframe thead th {\n",
       "        text-align: right;\n",
       "    }\n",
       "</style>\n",
       "<table border=\"1\" class=\"dataframe\">\n",
       "  <thead>\n",
       "    <tr style=\"text-align: right;\">\n",
       "      <th></th>\n",
       "      <th>trafficSource.isTrueDirect</th>\n",
       "      <th>purchaseValue</th>\n",
       "      <th>browser</th>\n",
       "      <th>device.screenResolution</th>\n",
       "      <th>trafficSource.adContent</th>\n",
       "      <th>trafficSource.keyword</th>\n",
       "      <th>screenSize</th>\n",
       "      <th>geoCluster</th>\n",
       "      <th>trafficSource.adwordsClickInfo.slot</th>\n",
       "      <th>device.mobileDeviceBranding</th>\n",
       "      <th>...</th>\n",
       "      <th>device.language</th>\n",
       "      <th>deviceType</th>\n",
       "      <th>userChannel</th>\n",
       "      <th>device.browserVersion</th>\n",
       "      <th>totalHits</th>\n",
       "      <th>device.screenColors</th>\n",
       "      <th>sessionStart</th>\n",
       "      <th>geoNetwork.continent</th>\n",
       "      <th>device.isMobile</th>\n",
       "      <th>new_visits</th>\n",
       "    </tr>\n",
       "  </thead>\n",
       "  <tbody>\n",
       "    <tr>\n",
       "      <th>0</th>\n",
       "      <td>NaN</td>\n",
       "      <td>0.00</td>\n",
       "      <td>Edge</td>\n",
       "      <td>not available in demo dataset</td>\n",
       "      <td>NaN</td>\n",
       "      <td>NaN</td>\n",
       "      <td>medium</td>\n",
       "      <td>Region_2</td>\n",
       "      <td>NaN</td>\n",
       "      <td>not available in demo dataset</td>\n",
       "      <td>...</td>\n",
       "      <td>not available in demo dataset</td>\n",
       "      <td>desktop</td>\n",
       "      <td>Social</td>\n",
       "      <td>not available in demo dataset</td>\n",
       "      <td>1</td>\n",
       "      <td>not available in demo dataset</td>\n",
       "      <td>1500100799</td>\n",
       "      <td>Americas</td>\n",
       "      <td>False</td>\n",
       "      <td>1.00</td>\n",
       "    </tr>\n",
       "    <tr>\n",
       "      <th>1</th>\n",
       "      <td>True</td>\n",
       "      <td>0.00</td>\n",
       "      <td>Chrome</td>\n",
       "      <td>not available in demo dataset</td>\n",
       "      <td>NaN</td>\n",
       "      <td>NaN</td>\n",
       "      <td>medium</td>\n",
       "      <td>Region_3</td>\n",
       "      <td>NaN</td>\n",
       "      <td>not available in demo dataset</td>\n",
       "      <td>...</td>\n",
       "      <td>not available in demo dataset</td>\n",
       "      <td>desktop</td>\n",
       "      <td>Direct</td>\n",
       "      <td>not available in demo dataset</td>\n",
       "      <td>1</td>\n",
       "      <td>not available in demo dataset</td>\n",
       "      <td>1495262065</td>\n",
       "      <td>Americas</td>\n",
       "      <td>False</td>\n",
       "      <td>1.00</td>\n",
       "    </tr>\n",
       "    <tr>\n",
       "      <th>2</th>\n",
       "      <td>True</td>\n",
       "      <td>0.00</td>\n",
       "      <td>Chrome</td>\n",
       "      <td>not available in demo dataset</td>\n",
       "      <td>NaN</td>\n",
       "      <td>(not provided)</td>\n",
       "      <td>medium</td>\n",
       "      <td>Region_2</td>\n",
       "      <td>NaN</td>\n",
       "      <td>not available in demo dataset</td>\n",
       "      <td>...</td>\n",
       "      <td>not available in demo dataset</td>\n",
       "      <td>desktop</td>\n",
       "      <td>Organic Search</td>\n",
       "      <td>not available in demo dataset</td>\n",
       "      <td>6</td>\n",
       "      <td>not available in demo dataset</td>\n",
       "      <td>1508510328</td>\n",
       "      <td>Europe</td>\n",
       "      <td>False</td>\n",
       "      <td>NaN</td>\n",
       "    </tr>\n",
       "    <tr>\n",
       "      <th>3</th>\n",
       "      <td>NaN</td>\n",
       "      <td>0.00</td>\n",
       "      <td>Internet Explorer</td>\n",
       "      <td>not available in demo dataset</td>\n",
       "      <td>NaN</td>\n",
       "      <td>NaN</td>\n",
       "      <td>medium</td>\n",
       "      <td>Region_4</td>\n",
       "      <td>NaN</td>\n",
       "      <td>not available in demo dataset</td>\n",
       "      <td>...</td>\n",
       "      <td>not available in demo dataset</td>\n",
       "      <td>desktop</td>\n",
       "      <td>Social</td>\n",
       "      <td>not available in demo dataset</td>\n",
       "      <td>1</td>\n",
       "      <td>not available in demo dataset</td>\n",
       "      <td>1483431838</td>\n",
       "      <td>Asia</td>\n",
       "      <td>False</td>\n",
       "      <td>1.00</td>\n",
       "    </tr>\n",
       "    <tr>\n",
       "      <th>4</th>\n",
       "      <td>True</td>\n",
       "      <td>88950000.00</td>\n",
       "      <td>Chrome</td>\n",
       "      <td>not available in demo dataset</td>\n",
       "      <td>NaN</td>\n",
       "      <td>NaN</td>\n",
       "      <td>medium</td>\n",
       "      <td>Region_3</td>\n",
       "      <td>NaN</td>\n",
       "      <td>not available in demo dataset</td>\n",
       "      <td>...</td>\n",
       "      <td>not available in demo dataset</td>\n",
       "      <td>desktop</td>\n",
       "      <td>Direct</td>\n",
       "      <td>not available in demo dataset</td>\n",
       "      <td>66</td>\n",
       "      <td>not available in demo dataset</td>\n",
       "      <td>1475804633</td>\n",
       "      <td>Americas</td>\n",
       "      <td>False</td>\n",
       "      <td>1.00</td>\n",
       "    </tr>\n",
       "  </tbody>\n",
       "</table>\n",
       "<p>5 rows × 52 columns</p>\n",
       "</div>"
      ],
      "text/plain": [
       "  trafficSource.isTrueDirect  purchaseValue            browser  \\\n",
       "0                        NaN           0.00               Edge   \n",
       "1                       True           0.00             Chrome   \n",
       "2                       True           0.00             Chrome   \n",
       "3                        NaN           0.00  Internet Explorer   \n",
       "4                       True    88950000.00             Chrome   \n",
       "\n",
       "         device.screenResolution trafficSource.adContent  \\\n",
       "0  not available in demo dataset                     NaN   \n",
       "1  not available in demo dataset                     NaN   \n",
       "2  not available in demo dataset                     NaN   \n",
       "3  not available in demo dataset                     NaN   \n",
       "4  not available in demo dataset                     NaN   \n",
       "\n",
       "  trafficSource.keyword screenSize geoCluster  \\\n",
       "0                   NaN     medium   Region_2   \n",
       "1                   NaN     medium   Region_3   \n",
       "2        (not provided)     medium   Region_2   \n",
       "3                   NaN     medium   Region_4   \n",
       "4                   NaN     medium   Region_3   \n",
       "\n",
       "  trafficSource.adwordsClickInfo.slot    device.mobileDeviceBranding  ...  \\\n",
       "0                                 NaN  not available in demo dataset  ...   \n",
       "1                                 NaN  not available in demo dataset  ...   \n",
       "2                                 NaN  not available in demo dataset  ...   \n",
       "3                                 NaN  not available in demo dataset  ...   \n",
       "4                                 NaN  not available in demo dataset  ...   \n",
       "\n",
       "                 device.language  deviceType     userChannel  \\\n",
       "0  not available in demo dataset     desktop          Social   \n",
       "1  not available in demo dataset     desktop          Direct   \n",
       "2  not available in demo dataset     desktop  Organic Search   \n",
       "3  not available in demo dataset     desktop          Social   \n",
       "4  not available in demo dataset     desktop          Direct   \n",
       "\n",
       "           device.browserVersion totalHits            device.screenColors  \\\n",
       "0  not available in demo dataset         1  not available in demo dataset   \n",
       "1  not available in demo dataset         1  not available in demo dataset   \n",
       "2  not available in demo dataset         6  not available in demo dataset   \n",
       "3  not available in demo dataset         1  not available in demo dataset   \n",
       "4  not available in demo dataset        66  not available in demo dataset   \n",
       "\n",
       "  sessionStart  geoNetwork.continent device.isMobile new_visits  \n",
       "0   1500100799              Americas           False       1.00  \n",
       "1   1495262065              Americas           False       1.00  \n",
       "2   1508510328                Europe           False        NaN  \n",
       "3   1483431838                  Asia           False       1.00  \n",
       "4   1475804633              Americas           False       1.00  \n",
       "\n",
       "[5 rows x 52 columns]"
      ]
     },
     "metadata": {},
     "output_type": "display_data"
    }
   ],
   "source": [
    "# First five rows\n",
    "print(\"\\n\" + \"=\" * 50)\n",
    "print(\"-\"*15,\"FIRST 5 ROWS\",\"-\"*15)\n",
    "print(\"=\" * 50)\n",
    "display(train.head())"
   ]
  },
  {
   "cell_type": "code",
   "execution_count": 7,
   "id": "2def2f45",
   "metadata": {
    "execution": {
     "iopub.execute_input": "2025-07-27T09:39:17.831949Z",
     "iopub.status.busy": "2025-07-27T09:39:17.831342Z",
     "iopub.status.idle": "2025-07-27T09:39:17.927309Z",
     "shell.execute_reply": "2025-07-27T09:39:17.926339Z"
    },
    "papermill": {
     "duration": 0.10742,
     "end_time": "2025-07-27T09:39:17.928928",
     "exception": false,
     "start_time": "2025-07-27T09:39:17.821508",
     "status": "completed"
    },
    "tags": []
   },
   "outputs": [
    {
     "name": "stdout",
     "output_type": "stream",
     "text": [
      "\n",
      "==================================================\n",
      "--------------- Descriptive Stats ---------------\n",
      "==================================================\n"
     ]
    },
    {
     "data": {
      "text/html": [
       "<div>\n",
       "<style scoped>\n",
       "    .dataframe tbody tr th:only-of-type {\n",
       "        vertical-align: middle;\n",
       "    }\n",
       "\n",
       "    .dataframe tbody tr th {\n",
       "        vertical-align: top;\n",
       "    }\n",
       "\n",
       "    .dataframe thead th {\n",
       "        text-align: right;\n",
       "    }\n",
       "</style>\n",
       "<table border=\"1\" class=\"dataframe\">\n",
       "  <thead>\n",
       "    <tr style=\"text-align: right;\">\n",
       "      <th></th>\n",
       "      <th>purchaseValue</th>\n",
       "      <th>userId</th>\n",
       "      <th>gclIdPresent</th>\n",
       "      <th>sessionNumber</th>\n",
       "      <th>totals.visits</th>\n",
       "      <th>sessionId</th>\n",
       "      <th>trafficSource.adwordsClickInfo.page</th>\n",
       "      <th>pageViews</th>\n",
       "      <th>locationZone</th>\n",
       "      <th>totals.bounces</th>\n",
       "      <th>date</th>\n",
       "      <th>totalHits</th>\n",
       "      <th>sessionStart</th>\n",
       "      <th>new_visits</th>\n",
       "    </tr>\n",
       "  </thead>\n",
       "  <tbody>\n",
       "    <tr>\n",
       "      <th>count</th>\n",
       "      <td>116023.00</td>\n",
       "      <td>116023.00</td>\n",
       "      <td>116023.00</td>\n",
       "      <td>116023.00</td>\n",
       "      <td>116023.00</td>\n",
       "      <td>116023.00</td>\n",
       "      <td>4281.00</td>\n",
       "      <td>116015.00</td>\n",
       "      <td>116023.00</td>\n",
       "      <td>47148.00</td>\n",
       "      <td>116023.00</td>\n",
       "      <td>116023.00</td>\n",
       "      <td>116023.00</td>\n",
       "      <td>80518.00</td>\n",
       "    </tr>\n",
       "    <tr>\n",
       "      <th>mean</th>\n",
       "      <td>26563930.08</td>\n",
       "      <td>61094.36</td>\n",
       "      <td>0.04</td>\n",
       "      <td>2.69</td>\n",
       "      <td>1.00</td>\n",
       "      <td>1493429019.85</td>\n",
       "      <td>1.02</td>\n",
       "      <td>8.41</td>\n",
       "      <td>8.00</td>\n",
       "      <td>1.00</td>\n",
       "      <td>20168598.78</td>\n",
       "      <td>10.61</td>\n",
       "      <td>1493429021.59</td>\n",
       "      <td>1.00</td>\n",
       "    </tr>\n",
       "    <tr>\n",
       "      <th>std</th>\n",
       "      <td>205182527.15</td>\n",
       "      <td>35240.76</td>\n",
       "      <td>0.19</td>\n",
       "      <td>10.45</td>\n",
       "      <td>0.00</td>\n",
       "      <td>15287980.11</td>\n",
       "      <td>0.17</td>\n",
       "      <td>14.34</td>\n",
       "      <td>0.00</td>\n",
       "      <td>0.00</td>\n",
       "      <td>6182.32</td>\n",
       "      <td>19.63</td>\n",
       "      <td>15287980.15</td>\n",
       "      <td>0.00</td>\n",
       "    </tr>\n",
       "    <tr>\n",
       "      <th>min</th>\n",
       "      <td>0.00</td>\n",
       "      <td>0.00</td>\n",
       "      <td>0.00</td>\n",
       "      <td>1.00</td>\n",
       "      <td>1.00</td>\n",
       "      <td>1470035457.00</td>\n",
       "      <td>1.00</td>\n",
       "      <td>1.00</td>\n",
       "      <td>8.00</td>\n",
       "      <td>1.00</td>\n",
       "      <td>20160801.00</td>\n",
       "      <td>1.00</td>\n",
       "      <td>1470035457.00</td>\n",
       "      <td>1.00</td>\n",
       "    </tr>\n",
       "    <tr>\n",
       "      <th>25%</th>\n",
       "      <td>0.00</td>\n",
       "      <td>30603.50</td>\n",
       "      <td>0.00</td>\n",
       "      <td>1.00</td>\n",
       "      <td>1.00</td>\n",
       "      <td>1480065578.50</td>\n",
       "      <td>1.00</td>\n",
       "      <td>1.00</td>\n",
       "      <td>8.00</td>\n",
       "      <td>1.00</td>\n",
       "      <td>20161125.00</td>\n",
       "      <td>1.00</td>\n",
       "      <td>1480065578.50</td>\n",
       "      <td>1.00</td>\n",
       "    </tr>\n",
       "    <tr>\n",
       "      <th>50%</th>\n",
       "      <td>0.00</td>\n",
       "      <td>61014.00</td>\n",
       "      <td>0.00</td>\n",
       "      <td>1.00</td>\n",
       "      <td>1.00</td>\n",
       "      <td>1491646341.00</td>\n",
       "      <td>1.00</td>\n",
       "      <td>2.00</td>\n",
       "      <td>8.00</td>\n",
       "      <td>1.00</td>\n",
       "      <td>20170408.00</td>\n",
       "      <td>2.00</td>\n",
       "      <td>1491646341.00</td>\n",
       "      <td>1.00</td>\n",
       "    </tr>\n",
       "    <tr>\n",
       "      <th>75%</th>\n",
       "      <td>0.00</td>\n",
       "      <td>91616.50</td>\n",
       "      <td>0.00</td>\n",
       "      <td>2.00</td>\n",
       "      <td>1.00</td>\n",
       "      <td>1505078741.00</td>\n",
       "      <td>1.00</td>\n",
       "      <td>10.00</td>\n",
       "      <td>8.00</td>\n",
       "      <td>1.00</td>\n",
       "      <td>20170910.00</td>\n",
       "      <td>12.00</td>\n",
       "      <td>1505078741.00</td>\n",
       "      <td>1.00</td>\n",
       "    </tr>\n",
       "    <tr>\n",
       "      <th>max</th>\n",
       "      <td>23129500000.00</td>\n",
       "      <td>122276.00</td>\n",
       "      <td>1.00</td>\n",
       "      <td>447.00</td>\n",
       "      <td>1.00</td>\n",
       "      <td>1525156795.00</td>\n",
       "      <td>5.00</td>\n",
       "      <td>469.00</td>\n",
       "      <td>8.00</td>\n",
       "      <td>1.00</td>\n",
       "      <td>20180430.00</td>\n",
       "      <td>500.00</td>\n",
       "      <td>1525156795.00</td>\n",
       "      <td>1.00</td>\n",
       "    </tr>\n",
       "  </tbody>\n",
       "</table>\n",
       "</div>"
      ],
      "text/plain": [
       "       purchaseValue    userId  gclIdPresent  sessionNumber  totals.visits  \\\n",
       "count      116023.00 116023.00     116023.00      116023.00      116023.00   \n",
       "mean     26563930.08  61094.36          0.04           2.69           1.00   \n",
       "std     205182527.15  35240.76          0.19          10.45           0.00   \n",
       "min             0.00      0.00          0.00           1.00           1.00   \n",
       "25%             0.00  30603.50          0.00           1.00           1.00   \n",
       "50%             0.00  61014.00          0.00           1.00           1.00   \n",
       "75%             0.00  91616.50          0.00           2.00           1.00   \n",
       "max   23129500000.00 122276.00          1.00         447.00           1.00   \n",
       "\n",
       "          sessionId  trafficSource.adwordsClickInfo.page  pageViews  \\\n",
       "count     116023.00                              4281.00  116015.00   \n",
       "mean  1493429019.85                                 1.02       8.41   \n",
       "std     15287980.11                                 0.17      14.34   \n",
       "min   1470035457.00                                 1.00       1.00   \n",
       "25%   1480065578.50                                 1.00       1.00   \n",
       "50%   1491646341.00                                 1.00       2.00   \n",
       "75%   1505078741.00                                 1.00      10.00   \n",
       "max   1525156795.00                                 5.00     469.00   \n",
       "\n",
       "       locationZone  totals.bounces        date  totalHits  sessionStart  \\\n",
       "count     116023.00        47148.00   116023.00  116023.00     116023.00   \n",
       "mean           8.00            1.00 20168598.78      10.61 1493429021.59   \n",
       "std            0.00            0.00     6182.32      19.63   15287980.15   \n",
       "min            8.00            1.00 20160801.00       1.00 1470035457.00   \n",
       "25%            8.00            1.00 20161125.00       1.00 1480065578.50   \n",
       "50%            8.00            1.00 20170408.00       2.00 1491646341.00   \n",
       "75%            8.00            1.00 20170910.00      12.00 1505078741.00   \n",
       "max            8.00            1.00 20180430.00     500.00 1525156795.00   \n",
       "\n",
       "       new_visits  \n",
       "count    80518.00  \n",
       "mean         1.00  \n",
       "std          0.00  \n",
       "min          1.00  \n",
       "25%          1.00  \n",
       "50%          1.00  \n",
       "75%          1.00  \n",
       "max          1.00  "
      ]
     },
     "metadata": {},
     "output_type": "display_data"
    }
   ],
   "source": [
    "# Dataset Descriptive stats\n",
    "print(\"\\n\" + \"=\" * 50)\n",
    "print(\"-\"*15,\"Descriptive Stats\",\"-\"*15)\n",
    "print(\"=\" * 50)\n",
    "display(train.describe())"
   ]
  },
  {
   "cell_type": "markdown",
   "id": "8256065c",
   "metadata": {
    "papermill": {
     "duration": 0.009143,
     "end_time": "2025-07-27T09:39:17.947850",
     "exception": false,
     "start_time": "2025-07-27T09:39:17.938707",
     "status": "completed"
    },
    "tags": []
   },
   "source": [
    "## 3.2 Target Variable Analysis"
   ]
  },
  {
   "cell_type": "code",
   "execution_count": 8,
   "id": "52e5d33c",
   "metadata": {
    "execution": {
     "iopub.execute_input": "2025-07-27T09:39:17.968036Z",
     "iopub.status.busy": "2025-07-27T09:39:17.967728Z",
     "iopub.status.idle": "2025-07-27T09:39:18.727987Z",
     "shell.execute_reply": "2025-07-27T09:39:18.726909Z"
    },
    "papermill": {
     "duration": 0.772152,
     "end_time": "2025-07-27T09:39:18.729537",
     "exception": false,
     "start_time": "2025-07-27T09:39:17.957385",
     "status": "completed"
    },
    "tags": []
   },
   "outputs": [
    {
     "data": {
      "image/png": "[encoded data removed]",
      "text/plain": [
       "<Figure size 1000x600 with 1 Axes>"
      ]
     },
     "metadata": {},
     "output_type": "display_data"
    },
    {
     "name": "stdout",
     "output_type": "stream",
     "text": [
      "Distribution Analysis:\n",
      "\n",
      "Total customers: 116023\n",
      "Zero purchases: 92038 (79.3%)\n",
      "Non-zero purchases: 23985 (20.7%)\n"
     ]
    }
   ],
   "source": [
    "# Plot 1: Distribution of Purchase Values\n",
    "plt.figure(figsize=(10, 6))\n",
    "plt.hist(train['purchaseValue'], bins=50, color='skyblue', edgecolor='black')\n",
    "plt.title('Distribution of Purchase Values', fontsize=14, fontweight='bold')\n",
    "plt.xlabel('Purchase value (millions of unit)')\n",
    "plt.ylabel('Frequency (Number of Customers)')\n",
    "plt.grid(True, alpha=0.3)\n",
    "plt.yscale('log') #log scale used\n",
    "plt.show()\n",
    "\n",
    "# Print key statistics\n",
    "print(\"Distribution Analysis:\\n\")\n",
    "print(f\"Total customers: {len(train)}\")\n",
    "print(f\"Zero purchases: {(train['purchaseValue'] == 0).sum()} ({(train['purchaseValue'] == 0).mean()*100:.1f}%)\")\n",
    "print(f\"Non-zero purchases: {(train['purchaseValue'] > 0).sum()} ({(train['purchaseValue'] > 0).mean()*100:.1f}%)\")\n"
   ]
  },
  {
   "cell_type": "code",
   "execution_count": 9,
   "id": "97be18db",
   "metadata": {
    "execution": {
     "iopub.execute_input": "2025-07-27T09:39:18.750693Z",
     "iopub.status.busy": "2025-07-27T09:39:18.750404Z",
     "iopub.status.idle": "2025-07-27T09:39:19.422259Z",
     "shell.execute_reply": "2025-07-27T09:39:19.421430Z"
    },
    "papermill": {
     "duration": 0.684098,
     "end_time": "2025-07-27T09:39:19.423826",
     "exception": false,
     "start_time": "2025-07-27T09:39:18.739728",
     "status": "completed"
    },
    "tags": []
   },
   "outputs": [
    {
     "data": {
      "image/png": "[encoded data removed]",
      "text/plain": [
       "<Figure size 1000x400 with 2 Axes>"
      ]
     },
     "metadata": {},
     "output_type": "display_data"
    }
   ],
   "source": [
    "# Plot 2: Box Plot for Outlier Detection\n",
    "\n",
    "non_zero = train['purchaseValue'][train['purchaseValue'] > 0]\n",
    "\n",
    "# Box plot for full dataset\n",
    "plt.figure(figsize=(10,4))\n",
    "plt.subplot(1,2,1)\n",
    "plt.boxplot(train['purchaseValue'], vert=True)\n",
    "plt.ylabel('Purchase Value ($)')\n",
    "plt.title('All Customers (incl. zeros)')\n",
    "\n",
    "# Box plot for paying customers only, with log scale\n",
    "plt.subplot(1,2,2)\n",
    "plt.boxplot(non_zero, vert=True)\n",
    "plt.yscale('log')\n",
    "plt.ylabel('Purchase Value ($, log scale)')\n",
    "plt.title('Paying Customers (excl. zeros)')\n",
    "\n",
    "plt.tight_layout()\n",
    "plt.show()\n"
   ]
  },
  {
   "cell_type": "code",
   "execution_count": 10,
   "id": "6d134d0c",
   "metadata": {
    "execution": {
     "iopub.execute_input": "2025-07-27T09:39:19.505912Z",
     "iopub.status.busy": "2025-07-27T09:39:19.505635Z",
     "iopub.status.idle": "2025-07-27T09:39:19.519429Z",
     "shell.execute_reply": "2025-07-27T09:39:19.518434Z"
    },
    "papermill": {
     "duration": 0.085332,
     "end_time": "2025-07-27T09:39:19.520692",
     "exception": false,
     "start_time": "2025-07-27T09:39:19.435360",
     "status": "completed"
    },
    "tags": []
   },
   "outputs": [
    {
     "name": "stdout",
     "output_type": "stream",
     "text": [
      "------------ Box Plot Analysis: ------------\n",
      "==================================================\n",
      "FULL DATASET (including zeros):\n",
      "\n",
      " - Q1 (25th percentile): $0.00\n",
      " - Median (50th percentile): $0.00\n",
      " - Q3 (75th percentile): $0.00\n",
      " - IQR: $0.00\n",
      " IQR = 0 because more than 75% of customers spent $0\n"
     ]
    }
   ],
   "source": [
    "print(\"-\"*12,\"Box Plot Analysis:\",\"-\"*12)\n",
    "print(\"=\" * 50)\n",
    "\n",
    "# Full dataset analysis (including zeros)\n",
    "q1_full = train['purchaseValue'].quantile(0.25)\n",
    "q3_full = train['purchaseValue'].quantile(0.75)\n",
    "median_full = train['purchaseValue'].quantile(0.50)\n",
    "iqr_full = q3_full - q1_full\n",
    "\n",
    "print(\"FULL DATASET (including zeros):\\n\")\n",
    "print(f\" - Q1 (25th percentile): ${q1_full:.2f}\")\n",
    "print(f\" - Median (50th percentile): ${median_full:.2f}\")\n",
    "print(f\" - Q3 (75th percentile): ${q3_full:.2f}\")\n",
    "print(f\" - IQR: ${iqr_full:.2f}\")\n",
    "\n",
    "print(\" IQR = 0 because more than 75% of customers spent $0\")\n"
   ]
  },
  {
   "cell_type": "code",
   "execution_count": 11,
   "id": "4c389fbf",
   "metadata": {
    "execution": {
     "iopub.execute_input": "2025-07-27T09:39:19.543932Z",
     "iopub.status.busy": "2025-07-27T09:39:19.543661Z",
     "iopub.status.idle": "2025-07-27T09:39:19.560642Z",
     "shell.execute_reply": "2025-07-27T09:39:19.559605Z"
    },
    "papermill": {
     "duration": 0.030195,
     "end_time": "2025-07-27T09:39:19.562094",
     "exception": false,
     "start_time": "2025-07-27T09:39:19.531899",
     "status": "completed"
    },
    "tags": []
   },
   "outputs": [
    {
     "name": "stdout",
     "output_type": "stream",
     "text": [
      "PAYING CUSTOMERS ONLY (20.7% of customers):\n",
      "\n",
      "  - Minimum paid purchase: $10000.0\n",
      "  - Q1 (25th percentile): $23,990,000.00\n",
      "  - Median (50th percentile): $47,700,000.00\n",
      "  - Q3 (75th percentile): $103,600,000.00\n",
      "  - IQR: $79,610,000.00\n",
      "  - Lower outlier threshold: $-95,425,000.00\n",
      "  - Upper outlier threshold: $223,015,000.00\n",
      "\n",
      " > Revenue Impact:\n",
      "  - Total revenue: $3,082,026,860,000.00\n",
      "  - Revenue from outliers: $1,889,441,890,000.00\n",
      "  - Outliers contribute 61.3% of total revenue\n",
      "\n",
      " > Spending Categories (paying customers):\n",
      "  - Small spenders (<= $23,990,000): 6066 customers\n",
      "  - Medium spenders ($23,990,000 - $103,600,000): 11923 customers\n",
      "  - Large spenders ($103,600,000 - $223,015,000): 3151 customers\n",
      "  - VIP spenders (> $223,015,000): 2845 customers\n"
     ]
    }
   ],
   "source": [
    "# Analysis for Paying Customers Only\n",
    "q1_buyers = non_zero.quantile(0.25)\n",
    "q3_buyers = non_zero.quantile(0.75)\n",
    "median_buyers = non_zero.quantile(0.50)\n",
    "iqr_buyers = q3_buyers - q1_buyers\n",
    "\n",
    "# Calculating outlier bounds for paying customers\n",
    "lower_bound_buyers = q1_buyers - 1.5 * iqr_buyers\n",
    "upper_bound_buyers = q3_buyers + 1.5 * iqr_buyers\n",
    "\n",
    "# Find outliers among paying customers\n",
    "buyer_outliers = non_zero[(non_zero < lower_bound_buyers) | (non_zero > upper_bound_buyers)]\n",
    "print(\"PAYING CUSTOMERS ONLY (20.7% of customers):\\n\")\n",
    "print(f\"  - Minimum paid purchase: ${non_zero.min()}\")\n",
    "print(f\"  - Q1 (25th percentile): ${q1_buyers:,.2f}\")\n",
    "print(f\"  - Median (50th percentile): ${median_buyers:,.2f}\")\n",
    "print(f\"  - Q3 (75th percentile): ${q3_buyers:,.2f}\")\n",
    "print(f\"  - IQR: ${iqr_buyers:,.2f}\")\n",
    "print(f\"  - Lower outlier threshold: ${lower_bound_buyers:,.2f}\")\n",
    "print(f\"  - Upper outlier threshold: ${upper_bound_buyers:,.2f}\")\n",
    "\n",
    "# Revenue analysis\n",
    "total_revenue = train['purchaseValue'].sum()\n",
    "outlier_revenue = buyer_outliers.sum()\n",
    "\n",
    "print(f\"\\n > Revenue Impact:\")\n",
    "print(f\"  - Total revenue: ${total_revenue:,.2f}\")\n",
    "print(f\"  - Revenue from outliers: ${outlier_revenue:,.2f}\")\n",
    "print(f\"  - Outliers contribute {outlier_revenue/total_revenue*100:.1f}% of total revenue\")\n",
    "\n",
    "# spending categories\n",
    "print(f\"\\n > Spending Categories (paying customers):\")\n",
    "\n",
    "# spending ranges\n",
    "small_spenders = non_zero[non_zero <= q1_buyers]\n",
    "medium_spenders = non_zero[(non_zero > q1_buyers) & \n",
    "                                    (non_zero <= q3_buyers)]\n",
    "large_spenders = non_zero[(non_zero > q3_buyers) & \n",
    "                                   (non_zero <= upper_bound_buyers)]\n",
    "outlier_spenders = non_zero[non_zero > upper_bound_buyers]\n",
    "\n",
    "print(f\"  - Small spenders (<= ${q1_buyers:,.0f}): {len(small_spenders)} customers\")\n",
    "print(f\"  - Medium spenders (${q1_buyers:,.0f} - ${q3_buyers:,.0f}): {len(medium_spenders)} customers\")\n",
    "print(f\"  - Large spenders (${q3_buyers:,.0f} - ${upper_bound_buyers:,.0f}): {len(large_spenders)} customers\")\n",
    "print(f\"  - VIP spenders (> ${upper_bound_buyers:,.0f}): {len(outlier_spenders)} customers\")\n"
   ]
  },
  {
   "cell_type": "code",
   "execution_count": 12,
   "id": "59000d77",
   "metadata": {
    "execution": {
     "iopub.execute_input": "2025-07-27T09:39:19.584803Z",
     "iopub.status.busy": "2025-07-27T09:39:19.584540Z",
     "iopub.status.idle": "2025-07-27T09:39:19.740576Z",
     "shell.execute_reply": "2025-07-27T09:39:19.739693Z"
    },
    "papermill": {
     "duration": 0.169152,
     "end_time": "2025-07-27T09:39:19.742052",
     "exception": false,
     "start_time": "2025-07-27T09:39:19.572900",
     "status": "completed"
    },
    "tags": []
   },
   "outputs": [
    {
     "data": {
      "image/png": "[encoded data removed]",
      "text/plain": [
       "<Figure size 1000x600 with 1 Axes>"
      ]
     },
     "metadata": {},
     "output_type": "display_data"
    }
   ],
   "source": [
    "# Bar graph for spending categories\n",
    "categories = ['Small', 'Medium', 'Large', 'VIP']\n",
    "customer_counts = [6066, 11923, 3151, 2845]\n",
    "\n",
    "# Create bar chart\n",
    "plt.figure(figsize=(10, 6))\n",
    "bars = plt.bar(categories, customer_counts, \n",
    "               color=['blue', 'green', 'red', 'yellow'])\n",
    "\n",
    "plt.title('Customer Spending Categories')\n",
    "plt.xlabel('Spending Category')\n",
    "plt.ylabel('Number of Customers')\n",
    "plt.grid(True, alpha=0.3, axis='y')\n",
    "\n",
    "plt.show()\n"
   ]
  },
  {
   "cell_type": "markdown",
   "id": "0a9375b6",
   "metadata": {
    "papermill": {
     "duration": 0.011027,
     "end_time": "2025-07-27T09:39:19.764701",
     "exception": false,
     "start_time": "2025-07-27T09:39:19.753674",
     "status": "completed"
    },
    "tags": []
   },
   "source": [
    "## 3.3 Missing Data Analysis"
   ]
  },
  {
   "cell_type": "code",
   "execution_count": 13,
   "id": "ea0249b8",
   "metadata": {
    "execution": {
     "iopub.execute_input": "2025-07-27T09:39:19.789341Z",
     "iopub.status.busy": "2025-07-27T09:39:19.788340Z",
     "iopub.status.idle": "2025-07-27T09:39:20.100401Z",
     "shell.execute_reply": "2025-07-27T09:39:20.099290Z"
    },
    "papermill": {
     "duration": 0.325969,
     "end_time": "2025-07-27T09:39:20.101895",
     "exception": false,
     "start_time": "2025-07-27T09:39:19.775926",
     "status": "completed"
    },
    "tags": []
   },
   "outputs": [
    {
     "name": "stdout",
     "output_type": "stream",
     "text": [
      "============================================================\n",
      "------------ MISSING DATA ANALYSIS ------------\n",
      "============================================================\n",
      "------------ Partially Filled: ------------\n",
      "geoNetwork.region: 60138 'not available in dataset' values (51.8%)\n",
      "geoNetwork.city: 60138 'not available in dataset' values (51.8%)\n",
      "geoNetwork.metro: 60138 'not available in dataset' values (51.8%)\n",
      "\n",
      " Completely empty columns (13):\n",
      " ['device.screenResolution', 'device.mobileDeviceBranding', 'device.mobileInputSelector', 'device.mobileDeviceMarketingName', 'device.operatingSystemVersion', 'device.flashVersion', 'geoNetwork.networkLocation', 'browserMajor', 'device.browserSize', 'device.mobileDeviceModel', 'device.language', 'device.browserVersion', 'device.screenColors']\n"
     ]
    }
   ],
   "source": [
    "# Missing data analysis\n",
    "print(\"=\" * 60)\n",
    "print(\"-\"*12,\"MISSING DATA ANALYSIS\",\"-\"*12)\n",
    "print(\"=\" * 60)\n",
    "\n",
    "# Check for 'not available in demo dataset' values\n",
    "zero_value_cols = []\n",
    "partial_missing_cols = []\n",
    "\n",
    "print(\"-\"*12,\"Partially Filled:\",\"-\"*12)\n",
    "for col in train.columns:\n",
    "    if train[col].dtype == 'object':  # Only check text columns\n",
    "        not_available = (train[col] == 'not available in demo dataset').sum()\n",
    "        if not_available == train.shape[0]:  # All values are 'not available'\n",
    "            zero_value_cols.append(col)\n",
    "        elif not_available > 0:  # Some values are 'not available'\n",
    "            partial_missing_cols.append((col, not_available))\n",
    "            print(f\"{col}: {not_available} 'not available in dataset' values ({not_available/train.shape[0]*100:.1f}%)\")\n",
    "\n",
    "print(f\"\\n Completely empty columns ({len(zero_value_cols)}):\\n {zero_value_cols}\")\n",
    "\n"
   ]
  },
  {
   "cell_type": "code",
   "execution_count": 14,
   "id": "1039187e",
   "metadata": {
    "execution": {
     "iopub.execute_input": "2025-07-27T09:39:20.125823Z",
     "iopub.status.busy": "2025-07-27T09:39:20.125558Z",
     "iopub.status.idle": "2025-07-27T09:39:20.588067Z",
     "shell.execute_reply": "2025-07-27T09:39:20.587186Z"
    },
    "papermill": {
     "duration": 0.475955,
     "end_time": "2025-07-27T09:39:20.589529",
     "exception": false,
     "start_time": "2025-07-27T09:39:20.113574",
     "status": "completed"
    },
    "tags": []
   },
   "outputs": [
    {
     "name": "stdout",
     "output_type": "stream",
     "text": [
      "\n",
      " Missing Values % Column-wise:\n",
      "========================================\n",
      " trafficSource.adContent: 97.4%\n",
      " trafficSource.adwordsClickInfo.isVideoAd: 96.3%\n",
      " trafficSource.adwordsClickInfo.page: 96.3%\n",
      " trafficSource.adwordsClickInfo.adNetworkType: 96.3%\n",
      " trafficSource.adwordsClickInfo.slot: 96.3%\n",
      " trafficSource.referralPath: 63.2%\n",
      " trafficSource.isTrueDirect: 63.0%\n",
      " trafficSource.keyword: 61.9%\n",
      " totals.bounces: 59.4%\n",
      " new_visits: 30.6%\n",
      " pageViews: 0.0%\n"
     ]
    },
    {
     "data": {
      "image/png": "[encoded data removed]",
      "text/plain": [
       "<Figure size 1200x600 with 1 Axes>"
      ]
     },
     "metadata": {},
     "output_type": "display_data"
    }
   ],
   "source": [
    "# Null/missing values\n",
    "missing_percent = (train.isnull().sum() / len(train) * 100).sort_values(ascending=False)\n",
    "missing_columns = missing_percent[missing_percent > 0]\n",
    "\n",
    "print(\"\\n Missing Values % Column-wise:\")\n",
    "print(\"=\" * 40)\n",
    "\n",
    "if len(missing_columns) > 0:\n",
    "    for column, percentage in missing_columns.items():\n",
    "        print(f\" {column}: {percentage:.1f}%\")\n",
    "    \n",
    "    # Visualize missing data\n",
    "    plt.figure(figsize=(12, 6))\n",
    "    top_missing = missing_columns.head(10)\n",
    "    plt.bar(range(len(top_missing)), top_missing.values)\n",
    "    plt.title('Missing Data % by Column')\n",
    "    plt.xlabel('Columns')\n",
    "    plt.ylabel('Missing Percentage (%)')\n",
    "    plt.xticks(range(len(top_missing)), top_missing.index, rotation=45)\n",
    "    plt.tight_layout()\n",
    "    plt.show()"
   ]
  },
  {
   "cell_type": "markdown",
   "id": "eb731e97",
   "metadata": {
    "papermill": {
     "duration": 0.013062,
     "end_time": "2025-07-27T09:39:20.616426",
     "exception": false,
     "start_time": "2025-07-27T09:39:20.603364",
     "status": "completed"
    },
    "tags": []
   },
   "source": [
    "## 3.4 Visualizing Features"
   ]
  },
  {
   "cell_type": "code",
   "execution_count": 15,
   "id": "d3261273",
   "metadata": {
    "execution": {
     "iopub.execute_input": "2025-07-27T09:39:20.644104Z",
     "iopub.status.busy": "2025-07-27T09:39:20.643809Z",
     "iopub.status.idle": "2025-07-27T09:39:20.748847Z",
     "shell.execute_reply": "2025-07-27T09:39:20.748008Z"
    },
    "papermill": {
     "duration": 0.120665,
     "end_time": "2025-07-27T09:39:20.750077",
     "exception": false,
     "start_time": "2025-07-27T09:39:20.629412",
     "status": "completed"
    },
    "tags": []
   },
   "outputs": [
    {
     "data": {
      "image/png": "[encoded data removed]",
      "text/plain": [
       "<Figure size 600x400 with 1 Axes>"
      ]
     },
     "metadata": {},
     "output_type": "display_data"
    }
   ],
   "source": [
    "import matplotlib.pyplot as plt\n",
    "\n",
    "group = train.groupby('deviceType').size().rename('Count').reset_index()\n",
    "\n",
    "# pie chart Device category\n",
    "plt.figure(figsize=(6, 4))\n",
    "plt.pie(group['Count'], \n",
    "         labels=group['deviceType'], \n",
    "         autopct='%1.2f%%')\n",
    "\n",
    "plt.title('Device Category')\n",
    "plt.axis('equal')\n",
    "plt.show()"
   ]
  },
  {
   "cell_type": "code",
   "execution_count": 16,
   "id": "01273412",
   "metadata": {
    "execution": {
     "iopub.execute_input": "2025-07-27T09:39:20.779413Z",
     "iopub.status.busy": "2025-07-27T09:39:20.779058Z",
     "iopub.status.idle": "2025-07-27T09:39:20.976613Z",
     "shell.execute_reply": "2025-07-27T09:39:20.975773Z"
    },
    "papermill": {
     "duration": 0.213705,
     "end_time": "2025-07-27T09:39:20.978058",
     "exception": false,
     "start_time": "2025-07-27T09:39:20.764353",
     "status": "completed"
    },
    "tags": []
   },
   "outputs": [
    {
     "data": {
      "image/png": "[encoded data removed]",
      "text/plain": [
       "<Figure size 800x600 with 1 Axes>"
      ]
     },
     "metadata": {},
     "output_type": "display_data"
    }
   ],
   "source": [
    "continents = train['geoNetwork.continent'].value_counts()\n",
    "num_bars = len(continents)\n",
    "random_colors = np.random.rand(num_bars, 3) \n",
    "\n",
    "# bar chart for Continent Distribution \n",
    "plt.figure(figsize=(8, 6))\n",
    "plt.bar(continents.index, continents.values,color=random_colors)\n",
    "\n",
    "plt.title('Continent Distribution')\n",
    "plt.xlabel('Continent')\n",
    "plt.ylabel('Count')\n",
    "plt.xticks(rotation=45)\n",
    "plt.grid(axis='y', alpha=0.3)\n",
    "plt.tight_layout()\n",
    "plt.show()\n",
    "\n"
   ]
  },
  {
   "cell_type": "markdown",
   "id": "2e18862d",
   "metadata": {
    "papermill": {
     "duration": 0.014414,
     "end_time": "2025-07-27T09:39:21.006921",
     "exception": false,
     "start_time": "2025-07-27T09:39:20.992507",
     "status": "completed"
    },
    "tags": []
   },
   "source": [
    "# 4. Data Cleaning"
   ]
  },
  {
   "cell_type": "code",
   "execution_count": 17,
   "id": "433f0813",
   "metadata": {
    "execution": {
     "iopub.execute_input": "2025-07-27T09:39:21.036764Z",
     "iopub.status.busy": "2025-07-27T09:39:21.036474Z",
     "iopub.status.idle": "2025-07-27T09:39:21.200376Z",
     "shell.execute_reply": "2025-07-27T09:39:21.199476Z"
    },
    "papermill": {
     "duration": 0.18092,
     "end_time": "2025-07-27T09:39:21.202039",
     "exception": false,
     "start_time": "2025-07-27T09:39:21.021119",
     "status": "completed"
    },
    "tags": []
   },
   "outputs": [],
   "source": [
    "# Filling the missing values and Also Changing \"(not set)\" and \"not available in dataset\" columns to Nan.\n",
    "\n",
    "#Defined Function\n",
    "def fill_na(df):   \n",
    "    df['pageViews'] = df['pageViews'].fillna(1)\n",
    "    df['new_visits'] = df['new_visits'].fillna(0)\n",
    "    df['totals.bounces'] = df['totals.bounces'].fillna(0)\n",
    "    \n",
    "    df['trafficSource.isTrueDirect'] = df['trafficSource.isTrueDirect'].fillna(False)\n",
    "    \n",
    "    # filling all 'not set' and 'not available in demo dataset' \n",
    "    df.loc[(df['geoNetwork.city'] == \"(not set)\") | \n",
    "    (df['geoNetwork.city'] == \"not available in demo dataset\"),'geoNetwork.city'] = np.nan\n",
    "    \n",
    "    df['geoNetwork.city'] = df['geoNetwork.city'].fillna(\"NaN\")\n",
    "\n",
    "    df.loc[(df['geoNetwork.metro'] == \"(not set)\") | \n",
    "    (df['geoNetwork.metro'] == \"not available in demo dataset\"),'geoNetwork.metro'] = np.nan\n",
    "    \n",
    "    df['geoNetwork.metro'] = df['geoNetwork.metro'].fillna(\"NaN\")\n",
    "\n",
    "    df.loc[(df['geoNetwork.region'] == \"(not set)\") | \n",
    "    (df['geoNetwork.region'] == \"not available in demo dataset\"),'geoNetwork.region'] = np.nan\n",
    "    \n",
    "    df['geoNetwork.region'] = df['geoNetwork.region'].fillna(\"NaN\")\n",
    "\n",
    "    df.loc[df['geoNetwork.continent'] == \"(not set)\", 'geoNetwork.continent'] = np.nan\n",
    "    \n",
    "    df['geoNetwork.continent'] = df['geoNetwork.continent'].fillna(\"NaN\")\n",
    "\n",
    "    return df\n",
    "\n",
    "train = fill_na(train)\n",
    "test = fill_na(test)"
   ]
  },
  {
   "cell_type": "markdown",
   "id": "7bb2073b",
   "metadata": {
    "papermill": {
     "duration": 0.014063,
     "end_time": "2025-07-27T09:39:21.231084",
     "exception": false,
     "start_time": "2025-07-27T09:39:21.217021",
     "status": "completed"
    },
    "tags": []
   },
   "source": [
    "## 4.1 Dropping all the defined empty columns "
   ]
  },
  {
   "cell_type": "code",
   "execution_count": 18,
   "id": "37e6a045",
   "metadata": {
    "execution": {
     "iopub.execute_input": "2025-07-27T09:39:21.260525Z",
     "iopub.status.busy": "2025-07-27T09:39:21.260213Z",
     "iopub.status.idle": "2025-07-27T09:39:21.265010Z",
     "shell.execute_reply": "2025-07-27T09:39:21.263832Z"
    },
    "papermill": {
     "duration": 0.021312,
     "end_time": "2025-07-27T09:39:21.266350",
     "exception": false,
     "start_time": "2025-07-27T09:39:21.245038",
     "status": "completed"
    },
    "tags": []
   },
   "outputs": [
    {
     "name": "stdout",
     "output_type": "stream",
     "text": [
      "['device.screenResolution', 'device.mobileDeviceBranding', 'device.mobileInputSelector', 'device.mobileDeviceMarketingName', 'device.operatingSystemVersion', 'device.flashVersion', 'geoNetwork.networkLocation', 'browserMajor', 'device.browserSize', 'device.mobileDeviceModel', 'device.language', 'device.browserVersion', 'device.screenColors']\n"
     ]
    }
   ],
   "source": [
    "#zero_value_cols defined earlier\n",
    "print(zero_value_cols)"
   ]
  },
  {
   "cell_type": "code",
   "execution_count": 19,
   "id": "e9ccbf6c",
   "metadata": {
    "execution": {
     "iopub.execute_input": "2025-07-27T09:39:21.296493Z",
     "iopub.status.busy": "2025-07-27T09:39:21.296132Z",
     "iopub.status.idle": "2025-07-27T09:39:21.354703Z",
     "shell.execute_reply": "2025-07-27T09:39:21.353825Z"
    },
    "papermill": {
     "duration": 0.075697,
     "end_time": "2025-07-27T09:39:21.356523",
     "exception": false,
     "start_time": "2025-07-27T09:39:21.280826",
     "status": "completed"
    },
    "tags": []
   },
   "outputs": [],
   "source": [
    "# Zero values are 100% empty and No value are more than 60% \n",
    "No_value = ['trafficSource.adContent',\n",
    "         'trafficSource.keyword',\n",
    "         'trafficSource.referralPath',\n",
    "         'trafficSource.adwordsClickInfo.slot',\n",
    "         'trafficSource.adwordsClickInfo.isVideoAd',\n",
    "         'trafficSource.adwordsClickInfo.adNetworkType',\n",
    "         'trafficSource.adwordsClickInfo.page'\n",
    "        ]\n",
    "train.drop(columns=(No_value + zero_value_cols),inplace =True)\n",
    "test.drop(columns=(No_value + zero_value_cols),inplace =True)"
   ]
  },
  {
   "cell_type": "markdown",
   "id": "f885484a",
   "metadata": {
    "papermill": {
     "duration": 0.01437,
     "end_time": "2025-07-27T09:39:21.385689",
     "exception": false,
     "start_time": "2025-07-27T09:39:21.371319",
     "status": "completed"
    },
    "tags": []
   },
   "source": [
    "## 4.2 Dropping constanst columns\n"
   ]
  },
  {
   "cell_type": "code",
   "execution_count": 20,
   "id": "d1760e61",
   "metadata": {
    "execution": {
     "iopub.execute_input": "2025-07-27T09:39:21.415951Z",
     "iopub.status.busy": "2025-07-27T09:39:21.415637Z",
     "iopub.status.idle": "2025-07-27T09:39:21.575317Z",
     "shell.execute_reply": "2025-07-27T09:39:21.574284Z"
    },
    "papermill": {
     "duration": 0.176602,
     "end_time": "2025-07-27T09:39:21.576740",
     "exception": false,
     "start_time": "2025-07-27T09:39:21.400138",
     "status": "completed"
    },
    "tags": []
   },
   "outputs": [
    {
     "name": "stdout",
     "output_type": "stream",
     "text": [
      "Columns : ['screenSize', 'totals.visits', 'socialEngagementType', 'locationZone']\n"
     ]
    }
   ],
   "source": [
    "constant_cols = [col for col in train.columns if train[col].nunique() == 1]\n",
    "print(f'Columns : {constant_cols}')\n",
    "\n",
    "\n",
    "train.drop(constant_cols, axis=1, inplace=True)\n",
    "test.drop(constant_cols, axis=1, inplace=True)"
   ]
  },
  {
   "cell_type": "markdown",
   "id": "500cc8ce",
   "metadata": {
    "papermill": {
     "duration": 0.014386,
     "end_time": "2025-07-27T09:39:21.605907",
     "exception": false,
     "start_time": "2025-07-27T09:39:21.591521",
     "status": "completed"
    },
    "tags": []
   },
   "source": [
    "## 4.3 Dropping High cardinality Columns"
   ]
  },
  {
   "cell_type": "code",
   "execution_count": 21,
   "id": "e7344233",
   "metadata": {
    "execution": {
     "iopub.execute_input": "2025-07-27T09:39:21.636164Z",
     "iopub.status.busy": "2025-07-27T09:39:21.635863Z",
     "iopub.status.idle": "2025-07-27T09:39:21.756159Z",
     "shell.execute_reply": "2025-07-27T09:39:21.755114Z"
    },
    "papermill": {
     "duration": 0.137407,
     "end_time": "2025-07-27T09:39:21.757884",
     "exception": false,
     "start_time": "2025-07-27T09:39:21.620477",
     "status": "completed"
    },
    "tags": []
   },
   "outputs": [
    {
     "name": "stdout",
     "output_type": "stream",
     "text": [
      "Cardinality of each column:\n",
      "sessionStart                  107388\n",
      "sessionId                     107379\n",
      "userId                        100499\n",
      "purchaseValue                   6766\n",
      "geoNetwork.city                  694\n",
      "date                             638\n",
      "geoNetwork.region                387\n",
      "sessionNumber                    230\n",
      "totalHits                        225\n",
      "locationCountry                  193\n",
      "pageViews                        175\n",
      "trafficSource                    161\n",
      "geoNetwork.metro                 103\n",
      "browser                           34\n",
      "trafficSource.campaign            28\n",
      "geoNetwork.subContinent           23\n",
      "os                                18\n",
      "userChannel                        8\n",
      "trafficSource.medium               7\n",
      "geoNetwork.continent               6\n",
      "geoCluster                         5\n",
      "geoNetwork.networkDomain           3\n",
      "deviceType                         3\n",
      "device.isMobile                    2\n",
      "trafficSource.isTrueDirect         2\n",
      "totals.bounces                     2\n",
      "gclIdPresent                       2\n",
      "new_visits                         2\n",
      "dtype: int64\n"
     ]
    }
   ],
   "source": [
    "# Finding High cardinality features\n",
    "\n",
    "# Calculate the number of unique values for each categorical column\n",
    "cardinality = train.nunique()\n",
    "\n",
    "print(\"Cardinality of each column:\")\n",
    "print(cardinality.sort_values(ascending=False))\n"
   ]
  },
  {
   "cell_type": "code",
   "execution_count": 22,
   "id": "9fc405ed",
   "metadata": {
    "execution": {
     "iopub.execute_input": "2025-07-27T09:39:21.788139Z",
     "iopub.status.busy": "2025-07-27T09:39:21.787828Z",
     "iopub.status.idle": "2025-07-27T09:39:21.805624Z",
     "shell.execute_reply": "2025-07-27T09:39:21.804666Z"
    },
    "papermill": {
     "duration": 0.034998,
     "end_time": "2025-07-27T09:39:21.807047",
     "exception": false,
     "start_time": "2025-07-27T09:39:21.772049",
     "status": "completed"
    },
    "tags": []
   },
   "outputs": [
    {
     "name": "stdout",
     "output_type": "stream",
     "text": [
      "Correlation: 1.0000\n"
     ]
    }
   ],
   "source": [
    "#finding correlation between sesionStart and sessionId before dropping:\n",
    "\n",
    "correlation = train['sessionStart'].corr(train['sessionId'])\n",
    "print(f\"Correlation: {correlation:.4f}\")\n"
   ]
  },
  {
   "cell_type": "code",
   "execution_count": 23,
   "id": "3408fa0a",
   "metadata": {
    "execution": {
     "iopub.execute_input": "2025-07-27T09:39:21.837525Z",
     "iopub.status.busy": "2025-07-27T09:39:21.836877Z",
     "iopub.status.idle": "2025-07-27T09:39:21.845098Z",
     "shell.execute_reply": "2025-07-27T09:39:21.844306Z"
    },
    "papermill": {
     "duration": 0.024311,
     "end_time": "2025-07-27T09:39:21.846402",
     "exception": false,
     "start_time": "2025-07-27T09:39:21.822091",
     "status": "completed"
    },
    "tags": []
   },
   "outputs": [
    {
     "name": "stdout",
     "output_type": "stream",
     "text": [
      "sessionStart vs date correlation: 0.912567\n"
     ]
    }
   ],
   "source": [
    "#finding correlation between sesionStart and date before dropping one of them:\n",
    "\n",
    "correlation = train['sessionStart'].corr(train['date'])\n",
    "print(f\"sessionStart vs date correlation: {correlation:.6f}\")"
   ]
  },
  {
   "cell_type": "code",
   "execution_count": 24,
   "id": "217cd812",
   "metadata": {
    "execution": {
     "iopub.execute_input": "2025-07-27T09:39:21.880109Z",
     "iopub.status.busy": "2025-07-27T09:39:21.879236Z",
     "iopub.status.idle": "2025-07-27T09:39:21.904721Z",
     "shell.execute_reply": "2025-07-27T09:39:21.903967Z"
    },
    "papermill": {
     "duration": 0.042183,
     "end_time": "2025-07-27T09:39:21.906322",
     "exception": false,
     "start_time": "2025-07-27T09:39:21.864139",
     "status": "completed"
    },
    "tags": []
   },
   "outputs": [],
   "source": [
    "#dropping sessionId and userId (identifier columns):\n",
    "\n",
    "train.drop(columns=['sessionId', 'userId'], inplace=True)\n",
    "test.drop(columns=['sessionId', 'userId'], inplace=True)\n"
   ]
  },
  {
   "cell_type": "code",
   "execution_count": 25,
   "id": "20f354a7",
   "metadata": {
    "execution": {
     "iopub.execute_input": "2025-07-27T09:39:21.937999Z",
     "iopub.status.busy": "2025-07-27T09:39:21.937222Z",
     "iopub.status.idle": "2025-07-27T09:39:22.040301Z",
     "shell.execute_reply": "2025-07-27T09:39:22.039382Z"
    },
    "papermill": {
     "duration": 0.120416,
     "end_time": "2025-07-27T09:39:22.041932",
     "exception": false,
     "start_time": "2025-07-27T09:39:21.921516",
     "status": "completed"
    },
    "tags": []
   },
   "outputs": [
    {
     "name": "stdout",
     "output_type": "stream",
     "text": [
      "<class 'pandas.core.frame.DataFrame'>\n",
      "RangeIndex: 116023 entries, 0 to 116022\n",
      "Data columns (total 26 columns):\n",
      " #   Column                      Non-Null Count   Dtype  \n",
      "---  ------                      --------------   -----  \n",
      " 0   trafficSource.isTrueDirect  116023 non-null  bool   \n",
      " 1   purchaseValue               116023 non-null  float64\n",
      " 2   browser                     116023 non-null  object \n",
      " 3   geoCluster                  116023 non-null  object \n",
      " 4   trafficSource.campaign      116023 non-null  object \n",
      " 5   geoNetwork.networkDomain    116023 non-null  object \n",
      " 6   gclIdPresent                116023 non-null  int64  \n",
      " 7   sessionNumber               116023 non-null  int64  \n",
      " 8   geoNetwork.region           116023 non-null  object \n",
      " 9   trafficSource               116023 non-null  object \n",
      " 10  os                          116023 non-null  object \n",
      " 11  geoNetwork.subContinent     116023 non-null  object \n",
      " 12  trafficSource.medium        116023 non-null  object \n",
      " 13  locationCountry             116023 non-null  object \n",
      " 14  geoNetwork.city             116023 non-null  object \n",
      " 15  geoNetwork.metro            116023 non-null  object \n",
      " 16  pageViews                   116023 non-null  float64\n",
      " 17  totals.bounces              116023 non-null  float64\n",
      " 18  date                        116023 non-null  int64  \n",
      " 19  deviceType                  116023 non-null  object \n",
      " 20  userChannel                 116023 non-null  object \n",
      " 21  totalHits                   116023 non-null  int64  \n",
      " 22  sessionStart                116023 non-null  int64  \n",
      " 23  geoNetwork.continent        116023 non-null  object \n",
      " 24  device.isMobile             116023 non-null  bool   \n",
      " 25  new_visits                  116023 non-null  float64\n",
      "dtypes: bool(2), float64(4), int64(5), object(15)\n",
      "memory usage: 21.5+ MB\n",
      "Train shape: (116023, 26)\n",
      "Test shape: (29006, 25)\n"
     ]
    }
   ],
   "source": [
    "train.info()\n",
    "print(f'Train shape: {train.shape}')\n",
    "print(f'Test shape: {test.shape}')"
   ]
  },
  {
   "cell_type": "markdown",
   "id": "bda433de",
   "metadata": {
    "papermill": {
     "duration": 0.013799,
     "end_time": "2025-07-27T09:39:22.070721",
     "exception": false,
     "start_time": "2025-07-27T09:39:22.056922",
     "status": "completed"
    },
    "tags": []
   },
   "source": [
    "## Correlation Heatmap\n",
    "\n",
    "- Shows how Numerical features are correalted with PurchaseValue and with each other "
   ]
  },
  {
   "cell_type": "code",
   "execution_count": 26,
   "id": "3d2088a7",
   "metadata": {
    "execution": {
     "iopub.execute_input": "2025-07-27T09:39:22.106403Z",
     "iopub.status.busy": "2025-07-27T09:39:22.106072Z",
     "iopub.status.idle": "2025-07-27T09:39:23.210448Z",
     "shell.execute_reply": "2025-07-27T09:39:23.209543Z"
    },
    "papermill": {
     "duration": 1.128092,
     "end_time": "2025-07-27T09:39:23.212995",
     "exception": false,
     "start_time": "2025-07-27T09:39:22.084903",
     "status": "completed"
    },
    "tags": []
   },
   "outputs": [
    {
     "data": {
      "image/png": "[encoded data removed]",
      "text/plain": [
       "<Figure size 1200x1000 with 2 Axes>"
      ]
     },
     "metadata": {},
     "output_type": "display_data"
    }
   ],
   "source": [
    "import matplotlib.pyplot as plt\n",
    "import seaborn as sns\n",
    "import numpy as np\n",
    "\n",
    "# selecting numerical columns\n",
    "numeric_cols = train.select_dtypes(include=[np.number]).columns\n",
    "corr_matrix = train[numeric_cols].corr()\n",
    "\n",
    "# correlation heatmap\n",
    "plt.figure(figsize=(12, 10))\n",
    "sns.heatmap(corr_matrix, \n",
    "           annot=True, \n",
    "           cmap='coolwarm', \n",
    "           center=0, \n",
    "           square=True, \n",
    "           fmt='.2f')\n",
    "\n",
    "plt.title('Correlation Matrix: Numerical Features')\n",
    "plt.tight_layout()\n",
    "plt.show()\n"
   ]
  },
  {
   "cell_type": "markdown",
   "id": "d7f2d2d0",
   "metadata": {
    "papermill": {
     "duration": 0.016451,
     "end_time": "2025-07-27T09:39:23.246483",
     "exception": false,
     "start_time": "2025-07-27T09:39:23.230032",
     "status": "completed"
    },
    "tags": []
   },
   "source": [
    "# 5.  Data Preprocessing & Feature Engineering"
   ]
  },
  {
   "cell_type": "markdown",
   "id": "403d5349",
   "metadata": {
    "papermill": {
     "duration": 0.016438,
     "end_time": "2025-07-27T09:39:23.279426",
     "exception": false,
     "start_time": "2025-07-27T09:39:23.262988",
     "status": "completed"
    },
    "tags": []
   },
   "source": [
    "## 5.1 Extracting Date & time features"
   ]
  },
  {
   "cell_type": "code",
   "execution_count": 27,
   "id": "2adc553e",
   "metadata": {
    "execution": {
     "iopub.execute_input": "2025-07-27T09:39:23.314359Z",
     "iopub.status.busy": "2025-07-27T09:39:23.313885Z",
     "iopub.status.idle": "2025-07-27T09:39:23.396982Z",
     "shell.execute_reply": "2025-07-27T09:39:23.396236Z"
    },
    "papermill": {
     "duration": 0.102776,
     "end_time": "2025-07-27T09:39:23.398704",
     "exception": false,
     "start_time": "2025-07-27T09:39:23.295928",
     "status": "completed"
    },
    "tags": []
   },
   "outputs": [],
   "source": [
    "# Feature Engineering sessionStart column\n",
    "def date_time_features(df):\n",
    "    # Converting to datetime\n",
    "    df['sessionStart_dt'] = pd.to_datetime(df['sessionStart'], unit='s')  #sessionStart was represented in Unix timestamp\n",
    "    \n",
    "    df['week_day'] = df['sessionStart_dt'].dt.dayofweek\n",
    "    df['month'] = df['sessionStart_dt'].dt.month\n",
    "    df['hour'] = df['sessionStart_dt'].dt.hour\n",
    "    df['is_weekend'] = (df['week_day'] >= 5).astype(int)\n",
    "    \n",
    "    # Time periods\n",
    "    df['period'] = pd.cut(df['hour'],bins=[0, 6, 12, 18, 24], \n",
    "                              labels=['Night', 'Morning', 'Afternoon', 'Evening'])\n",
    "    \n",
    "    # Converting categorical to numerical \n",
    "    df['day_period'] = df['period'].cat.codes\n",
    "    \n",
    "    # Droping intermediate columns and Date\n",
    "    df.drop(columns=['sessionStart_dt', 'period','date'], inplace=True)\n",
    "    \n",
    "    return df\n",
    "\n",
    "train = date_time_features(train)\n",
    "test = date_time_features(test)"
   ]
  },
  {
   "cell_type": "markdown",
   "id": "3c2b22cd",
   "metadata": {
    "papermill": {
     "duration": 0.016316,
     "end_time": "2025-07-27T09:39:23.431760",
     "exception": false,
     "start_time": "2025-07-27T09:39:23.415444",
     "status": "completed"
    },
    "tags": []
   },
   "source": [
    "## 5.2 Splitting the Dataset"
   ]
  },
  {
   "cell_type": "code",
   "execution_count": 28,
   "id": "5a4de743",
   "metadata": {
    "execution": {
     "iopub.execute_input": "2025-07-27T09:39:23.466367Z",
     "iopub.status.busy": "2025-07-27T09:39:23.466017Z",
     "iopub.status.idle": "2025-07-27T09:39:23.547049Z",
     "shell.execute_reply": "2025-07-27T09:39:23.546001Z"
    },
    "papermill": {
     "duration": 0.100293,
     "end_time": "2025-07-27T09:39:23.548455",
     "exception": false,
     "start_time": "2025-07-27T09:39:23.448162",
     "status": "completed"
    },
    "tags": []
   },
   "outputs": [
    {
     "name": "stdout",
     "output_type": "stream",
     "text": [
      "Training set shape: (92818, 29)\n",
      "Validation set shape: (23205, 29)\n",
      "Target training shape: (92818,)\n",
      "Target validation shape: (23205,)\n"
     ]
    }
   ],
   "source": [
    "X = train.drop('purchaseValue', axis=1)\n",
    "y = train['purchaseValue']\n",
    "\n",
    "X_train, X_val, y_train, y_val = train_test_split(X, y, test_size=0.2, random_state=123)\n",
    "\n",
    "print(f\"Training set shape: {X_train.shape}\")\n",
    "print(f\"Validation set shape: {X_val.shape}\")\n",
    "print(f\"Target training shape: {y_train.shape}\")\n",
    "print(f\"Target validation shape: {y_val.shape}\")"
   ]
  },
  {
   "cell_type": "code",
   "execution_count": 29,
   "id": "7041750a",
   "metadata": {
    "execution": {
     "iopub.execute_input": "2025-07-27T09:39:23.583067Z",
     "iopub.status.busy": "2025-07-27T09:39:23.582745Z",
     "iopub.status.idle": "2025-07-27T09:39:23.666981Z",
     "shell.execute_reply": "2025-07-27T09:39:23.666103Z"
    },
    "papermill": {
     "duration": 0.102922,
     "end_time": "2025-07-27T09:39:23.668294",
     "exception": false,
     "start_time": "2025-07-27T09:39:23.565372",
     "status": "completed"
    },
    "tags": []
   },
   "outputs": [
    {
     "name": "stdout",
     "output_type": "stream",
     "text": [
      "Numerical columns: ['gclIdPresent', 'sessionNumber', 'pageViews', 'totals.bounces', 'totalHits', 'sessionStart', 'new_visits', 'week_day', 'month', 'hour', 'is_weekend', 'day_period']\n",
      "\n",
      "Categorical columns: ['browser', 'geoCluster', 'trafficSource.campaign', 'geoNetwork.networkDomain', 'geoNetwork.region', 'trafficSource', 'os', 'geoNetwork.subContinent', 'trafficSource.medium', 'locationCountry', 'geoNetwork.city', 'geoNetwork.metro', 'deviceType', 'userChannel', 'geoNetwork.continent']\n"
     ]
    }
   ],
   "source": [
    "\n",
    "# numerical and categorical columns\n",
    "num_cols = X_train.select_dtypes(include=np.number).columns.tolist()\n",
    "cat_cols = X_train.select_dtypes(include=['object']).columns.tolist()\n",
    "\n",
    "print(\"Numerical columns:\", num_cols)\n",
    "print(\"\\nCategorical columns:\", cat_cols)"
   ]
  },
  {
   "cell_type": "markdown",
   "id": "e36460cc",
   "metadata": {
    "papermill": {
     "duration": 0.015916,
     "end_time": "2025-07-27T09:39:23.700823",
     "exception": false,
     "start_time": "2025-07-27T09:39:23.684907",
     "status": "completed"
    },
    "tags": []
   },
   "source": [
    "# 6. Model Training"
   ]
  },
  {
   "cell_type": "markdown",
   "id": "4494d456",
   "metadata": {
    "papermill": {
     "duration": 0.016286,
     "end_time": "2025-07-27T09:39:23.733273",
     "exception": false,
     "start_time": "2025-07-27T09:39:23.716987",
     "status": "completed"
    },
    "tags": []
   },
   "source": [
    "## 6.1 XGBoost"
   ]
  },
  {
   "cell_type": "code",
   "execution_count": 30,
   "id": "8e2e57ed",
   "metadata": {
    "execution": {
     "iopub.execute_input": "2025-07-27T09:39:23.766447Z",
     "iopub.status.busy": "2025-07-27T09:39:23.766121Z",
     "iopub.status.idle": "2025-07-27T09:39:23.770978Z",
     "shell.execute_reply": "2025-07-27T09:39:23.770320Z"
    },
    "papermill": {
     "duration": 0.023122,
     "end_time": "2025-07-27T09:39:23.772544",
     "exception": false,
     "start_time": "2025-07-27T09:39:23.749422",
     "status": "completed"
    },
    "tags": []
   },
   "outputs": [],
   "source": [
    "# def Xgbmodel():\n",
    "#     from sklearn.pipeline import Pipeline\n",
    "#     from sklearn.impute import SimpleImputer\n",
    "#     from sklearn.preprocessing import StandardScaler, OrdinalEncoder\n",
    "#     from sklearn.compose import ColumnTransformer\n",
    "#     import xgboost as xgb\n",
    "    \n",
    "#     #num_features = ['sessionNumber','pageViews', 'totalHits', 'sessionStart','day_period', 'gclIdPresent']\n",
    "    \n",
    "#     sel_num = ['sessionNumber', 'pageViews', 'totalHits' ,'sessionStart','new_visits','month','hour'] \n",
    "    \n",
    "#     cat_features = ['browser','userChannel','geoNetwork.continent','geoNetwork.metro',\n",
    "#                    'geoNetwork.city','locationCountry', 'geoNetwork.region','geoNetwork.subContinent']\n",
    "\n",
    "#     #sel_cat =  ['browser','geoCluster','trafficSource','os','deviceType','userChannel',]\n",
    "\n",
    "\n",
    "#     # Creating transformers \n",
    "#     num_pipeline = Pipeline(steps=[\n",
    "#         ('imputer', SimpleImputer(strategy='median')),\n",
    "#         ('scaler', StandardScaler())\n",
    "#     ])\n",
    "    \n",
    "#     cat_pipeline = Pipeline(steps=[\n",
    "#         ('imputer', SimpleImputer(strategy='most_frequent')),\n",
    "#         ('encoder', OrdinalEncoder(\n",
    "#             handle_unknown='use_encoded_value', \n",
    "#             unknown_value=-1\n",
    "#         ))\n",
    "#     ])\n",
    "    \n",
    "#     # Preprocessor\n",
    "#     preprocessor = ColumnTransformer(\n",
    "#         transformers=[\n",
    "#             ('num', num_pipeline, sel_num),\n",
    "#             ('cat', cat_pipeline, cat_features)\n",
    "#         ],\n",
    "#         remainder='drop'\n",
    "#     )\n",
    "    \n",
    "#     # Complete pipeline\n",
    "#     pipeline = Pipeline(steps=[\n",
    "#         ('preprocessor', preprocessor),\n",
    "#         ('regressor', xgb.XGBRegressor(\n",
    "#             learning_rate=0.15,  # Using eta value\n",
    "#             max_depth=8,\n",
    "#             min_child_weight=100,\n",
    "#             gamma=5,\n",
    "#             subsample=1,\n",
    "#             colsample_bytree=0.95,\n",
    "#             colsample_bylevel=0.35,\n",
    "#             reg_alpha=25,\n",
    "#             reg_lambda=25,\n",
    "#             n_jobs=-1,\n",
    "#             verbosity=0,\n",
    "#             random_state=42,\n",
    "#             n_estimators=100\n",
    "#         ))\n",
    "#     ])\n",
    "    \n",
    "#     return pipeline\n",
    "\n",
    "\n",
    "# XGB = Xgbmodel()\n",
    "# XGB.fit(X_train, y_train)\n"
   ]
  },
  {
   "cell_type": "code",
   "execution_count": 31,
   "id": "4a03b2d9",
   "metadata": {
    "execution": {
     "iopub.execute_input": "2025-07-27T09:39:23.807307Z",
     "iopub.status.busy": "2025-07-27T09:39:23.806541Z",
     "iopub.status.idle": "2025-07-27T09:39:23.810303Z",
     "shell.execute_reply": "2025-07-27T09:39:23.809602Z"
    },
    "papermill": {
     "duration": 0.022411,
     "end_time": "2025-07-27T09:39:23.811599",
     "exception": false,
     "start_time": "2025-07-27T09:39:23.789188",
     "status": "completed"
    },
    "tags": []
   },
   "outputs": [],
   "source": [
    "# #Checking XGboost Model performance\n",
    "\n",
    "# # Predict on training set\n",
    "# y_train_pred = XGB.predict(X_train)\n",
    "# r2_train = r2_score(y_train, y_train_pred)\n",
    "\n",
    "# # Predict on validation set\n",
    "# y_val_pred = XGB.predict(X_val)\n",
    "# r2_val = r2_score(y_val, y_val_pred)\n",
    "\n",
    "# # Print both\n",
    "# print(f\"Training R² score: {r2_train:.4f}\")\n",
    "# print(f\"Validation R² score: {r2_val:.4f}\")"
   ]
  },
  {
   "cell_type": "code",
   "execution_count": 32,
   "id": "da6d4794",
   "metadata": {
    "execution": {
     "iopub.execute_input": "2025-07-27T09:39:23.845564Z",
     "iopub.status.busy": "2025-07-27T09:39:23.844920Z",
     "iopub.status.idle": "2025-07-27T09:39:23.849000Z",
     "shell.execute_reply": "2025-07-27T09:39:23.848182Z"
    },
    "papermill": {
     "duration": 0.022665,
     "end_time": "2025-07-27T09:39:23.850406",
     "exception": false,
     "start_time": "2025-07-27T09:39:23.827741",
     "status": "completed"
    },
    "tags": []
   },
   "outputs": [],
   "source": [
    "# import matplotlib.pyplot as plt\n",
    "\n",
    "\n",
    "# regressor = XGB.named_steps['regressor']\n",
    "# preprocessor = XGB.named_steps['preprocessor']\n",
    "\n",
    "# importances = regressor.feature_importances_\n",
    "\n",
    "# feature_names = preprocessor.get_feature_names_out()\n",
    "\n",
    "# feature_importance_series = pd.Series(importances, index=feature_names)\n",
    "\n",
    "# sorted_importances = feature_importance_series.sort_values(ascending=True)\n",
    "\n",
    "# plt.figure(figsize=(12, 10))\n",
    "# sorted_importances.plot(kind='barh')\n",
    "# plt.title('XGBoost Feature Importance from Pipeline')\n",
    "# plt.xlabel('Importance Score')\n",
    "# plt.ylabel('Features')\n",
    "# plt.show()"
   ]
  },
  {
   "cell_type": "markdown",
   "id": "53dada8b",
   "metadata": {
    "papermill": {
     "duration": 0.016625,
     "end_time": "2025-07-27T09:39:23.884373",
     "exception": false,
     "start_time": "2025-07-27T09:39:23.867748",
     "status": "completed"
    },
    "tags": []
   },
   "source": [
    "## 6.2 RandomForestRegressor"
   ]
  },
  {
   "cell_type": "code",
   "execution_count": 33,
   "id": "fc62311a",
   "metadata": {
    "execution": {
     "iopub.execute_input": "2025-07-27T09:39:23.919864Z",
     "iopub.status.busy": "2025-07-27T09:39:23.919553Z",
     "iopub.status.idle": "2025-07-27T09:39:23.924157Z",
     "shell.execute_reply": "2025-07-27T09:39:23.923326Z"
    },
    "papermill": {
     "duration": 0.024307,
     "end_time": "2025-07-27T09:39:23.925578",
     "exception": false,
     "start_time": "2025-07-27T09:39:23.901271",
     "status": "completed"
    },
    "tags": []
   },
   "outputs": [],
   "source": [
    "# def RFmodel():\n",
    "#     from sklearn.pipeline import Pipeline\n",
    "#     from sklearn.impute import SimpleImputer\n",
    "#     from sklearn.preprocessing import StandardScaler, OrdinalEncoder\n",
    "#     from sklearn.compose import ColumnTransformer\n",
    "#     from sklearn.ensemble import RandomForestRegressor as RF\n",
    "    \n",
    "#     num_features = ['sessionNumber','pageViews', 'totalHits', 'sessionStart',\n",
    "#                    'day_period','hour', 'week_day']\n",
    "    \n",
    "#     cat_features = ['userChannel', 'geoNetwork.continent', 'geoNetwork.metro',\n",
    "#                    'geoNetwork.city', 'locationCountry', 'geoNetwork.region',\n",
    "#                    'geoNetwork.subContinent']\n",
    "\n",
    "#     # Numerical preprocessing pipeline\n",
    "#     num_transformer = Pipeline(steps=[\n",
    "#         ('imputer', SimpleImputer(strategy='median')),\n",
    "#         ('scaler', StandardScaler())\n",
    "#     ])\n",
    "\n",
    "#     # Categorical Preprocessing pipeline\n",
    "#     cat_transformer = Pipeline(steps=[\n",
    "#         ('imputer', SimpleImputer(strategy='most_frequent')),\n",
    "#         ('encoder', OrdinalEncoder(\n",
    "#             handle_unknown='use_encoded_value', \n",
    "#             unknown_value=-1\n",
    "#         ))\n",
    "#     ])\n",
    "    \n",
    "#     # Column Transformer \n",
    "#     preprocessor = ColumnTransformer(\n",
    "#         transformers=[\n",
    "#             ('num', num_transformer, num_features),\n",
    "#             ('cat',cat_transformer, cat_features)\n",
    "#         ],\n",
    "#         remainder='drop'\n",
    "#     )\n",
    "    \n",
    "#     pipeline = Pipeline(steps=[\n",
    "#         ('preprocessor', preprocessor),\n",
    "#         ('regressor', RF(\n",
    "#             n_estimators=250,\n",
    "#             max_depth=25,\n",
    "#             min_samples_split=8,\n",
    "#             min_samples_leaf=4,\n",
    "#             max_features=0.2,\n",
    "#             random_state=60,\n",
    "#             n_jobs=-1  # Use all available cores\n",
    "#         ))\n",
    "#     ])\n",
    "    \n",
    "#     return pipeline\n",
    "\n",
    "\n",
    "# RF_model = RFmodel()\n",
    "# RF_model.fit(X_train, y_train)\n"
   ]
  },
  {
   "cell_type": "code",
   "execution_count": 34,
   "id": "1d84cf69",
   "metadata": {
    "execution": {
     "iopub.execute_input": "2025-07-27T09:39:23.961129Z",
     "iopub.status.busy": "2025-07-27T09:39:23.960848Z",
     "iopub.status.idle": "2025-07-27T09:39:23.965328Z",
     "shell.execute_reply": "2025-07-27T09:39:23.964421Z"
    },
    "papermill": {
     "duration": 0.024244,
     "end_time": "2025-07-27T09:39:23.966783",
     "exception": false,
     "start_time": "2025-07-27T09:39:23.942539",
     "status": "completed"
    },
    "tags": []
   },
   "outputs": [],
   "source": [
    "# #Checking ExtraTreesRegressor Model performance\n",
    "\n",
    "# # Predict on training set\n",
    "# y_train_pred = RF_model.predict(X_train)\n",
    "# r2_train = r2_score(y_train, y_train_pred)\n",
    "\n",
    "# # Predict on validation set\n",
    "# y_val_pred = RF_model.predict(X_val)\n",
    "# r2_val = r2_score(y_val, y_val_pred)\n",
    "\n",
    "# # Print both\n",
    "# print(f\"Training R² score: {r2_train:.4f}\")\n",
    "# print(f\"Validation R² score: {r2_val:.4f}\")\n"
   ]
  },
  {
   "cell_type": "markdown",
   "id": "1746cef3",
   "metadata": {
    "papermill": {
     "duration": 0.01599,
     "end_time": "2025-07-27T09:39:23.999037",
     "exception": false,
     "start_time": "2025-07-27T09:39:23.983047",
     "status": "completed"
    },
    "tags": []
   },
   "source": [
    "## 6.3 ExtraTreesRegressor"
   ]
  },
  {
   "cell_type": "code",
   "execution_count": 35,
   "id": "47f6f1e3",
   "metadata": {
    "execution": {
     "iopub.execute_input": "2025-07-27T09:39:24.034419Z",
     "iopub.status.busy": "2025-07-27T09:39:24.033885Z",
     "iopub.status.idle": "2025-07-27T09:39:28.084435Z",
     "shell.execute_reply": "2025-07-27T09:39:28.083402Z"
    },
    "papermill": {
     "duration": 4.070219,
     "end_time": "2025-07-27T09:39:28.085872",
     "exception": false,
     "start_time": "2025-07-27T09:39:24.015653",
     "status": "completed"
    },
    "tags": []
   },
   "outputs": [
    {
     "data": {
      "text/html": [
       "<style>#sk-container-id-1 {color: black;background-color: white;}#sk-container-id-1 pre{padding: 0;}#sk-container-id-1 div.sk-toggleable {background-color: white;}#sk-container-id-1 label.sk-toggleable__label {cursor: pointer;display: block;width: 100%;margin-bottom: 0;padding: 0.3em;box-sizing: border-box;text-align: center;}#sk-container-id-1 label.sk-toggleable__label-arrow:before {content: \"▸\";float: left;margin-right: 0.25em;color: #696969;}#sk-container-id-1 label.sk-toggleable__label-arrow:hover:before {color: black;}#sk-container-id-1 div.sk-estimator:hover label.sk-toggleable__label-arrow:before {color: black;}#sk-container-id-1 div.sk-toggleable__content {max-height: 0;max-width: 0;overflow: hidden;text-align: left;background-color: #f0f8ff;}#sk-container-id-1 div.sk-toggleable__content pre {margin: 0.2em;color: black;border-radius: 0.25em;background-color: #f0f8ff;}#sk-container-id-1 input.sk-toggleable__control:checked~div.sk-toggleable__content {max-height: 200px;max-width: 100%;overflow: auto;}#sk-container-id-1 input.sk-toggleable__control:checked~label.sk-toggleable__label-arrow:before {content: \"▾\";}#sk-container-id-1 div.sk-estimator input.sk-toggleable__control:checked~label.sk-toggleable__label {background-color: #d4ebff;}#sk-container-id-1 div.sk-label input.sk-toggleable__control:checked~label.sk-toggleable__label {background-color: #d4ebff;}#sk-container-id-1 input.sk-hidden--visually {border: 0;clip: rect(1px 1px 1px 1px);clip: rect(1px, 1px, 1px, 1px);height: 1px;margin: -1px;overflow: hidden;padding: 0;position: absolute;width: 1px;}#sk-container-id-1 div.sk-estimator {font-family: monospace;background-color: #f0f8ff;border: 1px dotted black;border-radius: 0.25em;box-sizing: border-box;margin-bottom: 0.5em;}#sk-container-id-1 div.sk-estimator:hover {background-color: #d4ebff;}#sk-container-id-1 div.sk-parallel-item::after {content: \"\";width: 100%;border-bottom: 1px solid gray;flex-grow: 1;}#sk-container-id-1 div.sk-label:hover label.sk-toggleable__label {background-color: #d4ebff;}#sk-container-id-1 div.sk-serial::before {content: \"\";position: absolute;border-left: 1px solid gray;box-sizing: border-box;top: 0;bottom: 0;left: 50%;z-index: 0;}#sk-container-id-1 div.sk-serial {display: flex;flex-direction: column;align-items: center;background-color: white;padding-right: 0.2em;padding-left: 0.2em;position: relative;}#sk-container-id-1 div.sk-item {position: relative;z-index: 1;}#sk-container-id-1 div.sk-parallel {display: flex;align-items: stretch;justify-content: center;background-color: white;position: relative;}#sk-container-id-1 div.sk-item::before, #sk-container-id-1 div.sk-parallel-item::before {content: \"\";position: absolute;border-left: 1px solid gray;box-sizing: border-box;top: 0;bottom: 0;left: 50%;z-index: -1;}#sk-container-id-1 div.sk-parallel-item {display: flex;flex-direction: column;z-index: 1;position: relative;background-color: white;}#sk-container-id-1 div.sk-parallel-item:first-child::after {align-self: flex-end;width: 50%;}#sk-container-id-1 div.sk-parallel-item:last-child::after {align-self: flex-start;width: 50%;}#sk-container-id-1 div.sk-parallel-item:only-child::after {width: 0;}#sk-container-id-1 div.sk-dashed-wrapped {border: 1px dashed gray;margin: 0 0.4em 0.5em 0.4em;box-sizing: border-box;padding-bottom: 0.4em;background-color: white;}#sk-container-id-1 div.sk-label label {font-family: monospace;font-weight: bold;display: inline-block;line-height: 1.2em;}#sk-container-id-1 div.sk-label-container {text-align: center;}#sk-container-id-1 div.sk-container {/* jupyter's `normalize.less` sets `[hidden] { display: none; }` but bootstrap.min.css set `[hidden] { display: none !important; }` so we also need the `!important` here to be able to override the default hidden behavior on the sphinx rendered scikit-learn.org. See: https://github.com/scikit-learn/scikit-learn/issues/21755 */display: inline-block !important;position: relative;}#sk-container-id-1 div.sk-text-repr-fallback {display: none;}</style><div id=\"sk-container-id-1\" class=\"sk-top-container\"><div class=\"sk-text-repr-fallback\"><pre>Pipeline(steps=[(&#x27;preprocessor&#x27;,\n",
       "                 ColumnTransformer(transformers=[(&#x27;num&#x27;,\n",
       "                                                  Pipeline(steps=[(&#x27;imputer&#x27;,\n",
       "                                                                   KNNImputer(n_neighbors=10)),\n",
       "                                                                  (&#x27;scaler&#x27;,\n",
       "                                                                   StandardScaler())]),\n",
       "                                                  [&#x27;sessionNumber&#x27;, &#x27;pageViews&#x27;,\n",
       "                                                   &#x27;totalHits&#x27;, &#x27;sessionStart&#x27;,\n",
       "                                                   &#x27;week_day&#x27;, &#x27;month&#x27;,\n",
       "                                                   &#x27;hour&#x27;])])),\n",
       "                (&#x27;regressor&#x27;,\n",
       "                 ExtraTreesRegressor(max_depth=30, max_features=0.2,\n",
       "                                     min_samples_split=3, n_estimators=260,\n",
       "                                     n_jobs=-1, random_state=60))])</pre><b>In a Jupyter environment, please rerun this cell to show the HTML representation or trust the notebook. <br />On GitHub, the HTML representation is unable to render, please try loading this page with nbviewer.org.</b></div><div class=\"sk-container\" hidden><div class=\"sk-item sk-dashed-wrapped\"><div class=\"sk-label-container\"><div class=\"sk-label sk-toggleable\"><input class=\"sk-toggleable__control sk-hidden--visually\" id=\"sk-estimator-id-1\" type=\"checkbox\" ><label for=\"sk-estimator-id-1\" class=\"sk-toggleable__label sk-toggleable__label-arrow\">Pipeline</label><div class=\"sk-toggleable__content\"><pre>Pipeline(steps=[(&#x27;preprocessor&#x27;,\n",
       "                 ColumnTransformer(transformers=[(&#x27;num&#x27;,\n",
       "                                                  Pipeline(steps=[(&#x27;imputer&#x27;,\n",
       "                                                                   KNNImputer(n_neighbors=10)),\n",
       "                                                                  (&#x27;scaler&#x27;,\n",
       "                                                                   StandardScaler())]),\n",
       "                                                  [&#x27;sessionNumber&#x27;, &#x27;pageViews&#x27;,\n",
       "                                                   &#x27;totalHits&#x27;, &#x27;sessionStart&#x27;,\n",
       "                                                   &#x27;week_day&#x27;, &#x27;month&#x27;,\n",
       "                                                   &#x27;hour&#x27;])])),\n",
       "                (&#x27;regressor&#x27;,\n",
       "                 ExtraTreesRegressor(max_depth=30, max_features=0.2,\n",
       "                                     min_samples_split=3, n_estimators=260,\n",
       "                                     n_jobs=-1, random_state=60))])</pre></div></div></div><div class=\"sk-serial\"><div class=\"sk-item sk-dashed-wrapped\"><div class=\"sk-label-container\"><div class=\"sk-label sk-toggleable\"><input class=\"sk-toggleable__control sk-hidden--visually\" id=\"sk-estimator-id-2\" type=\"checkbox\" ><label for=\"sk-estimator-id-2\" class=\"sk-toggleable__label sk-toggleable__label-arrow\">preprocessor: ColumnTransformer</label><div class=\"sk-toggleable__content\"><pre>ColumnTransformer(transformers=[(&#x27;num&#x27;,\n",
       "                                 Pipeline(steps=[(&#x27;imputer&#x27;,\n",
       "                                                  KNNImputer(n_neighbors=10)),\n",
       "                                                 (&#x27;scaler&#x27;, StandardScaler())]),\n",
       "                                 [&#x27;sessionNumber&#x27;, &#x27;pageViews&#x27;, &#x27;totalHits&#x27;,\n",
       "                                  &#x27;sessionStart&#x27;, &#x27;week_day&#x27;, &#x27;month&#x27;,\n",
       "                                  &#x27;hour&#x27;])])</pre></div></div></div><div class=\"sk-parallel\"><div class=\"sk-parallel-item\"><div class=\"sk-item\"><div class=\"sk-label-container\"><div class=\"sk-label sk-toggleable\"><input class=\"sk-toggleable__control sk-hidden--visually\" id=\"sk-estimator-id-3\" type=\"checkbox\" ><label for=\"sk-estimator-id-3\" class=\"sk-toggleable__label sk-toggleable__label-arrow\">num</label><div class=\"sk-toggleable__content\"><pre>[&#x27;sessionNumber&#x27;, &#x27;pageViews&#x27;, &#x27;totalHits&#x27;, &#x27;sessionStart&#x27;, &#x27;week_day&#x27;, &#x27;month&#x27;, &#x27;hour&#x27;]</pre></div></div></div><div class=\"sk-serial\"><div class=\"sk-item\"><div class=\"sk-serial\"><div class=\"sk-item\"><div class=\"sk-estimator sk-toggleable\"><input class=\"sk-toggleable__control sk-hidden--visually\" id=\"sk-estimator-id-4\" type=\"checkbox\" ><label for=\"sk-estimator-id-4\" class=\"sk-toggleable__label sk-toggleable__label-arrow\">KNNImputer</label><div class=\"sk-toggleable__content\"><pre>KNNImputer(n_neighbors=10)</pre></div></div></div><div class=\"sk-item\"><div class=\"sk-estimator sk-toggleable\"><input class=\"sk-toggleable__control sk-hidden--visually\" id=\"sk-estimator-id-5\" type=\"checkbox\" ><label for=\"sk-estimator-id-5\" class=\"sk-toggleable__label sk-toggleable__label-arrow\">StandardScaler</label><div class=\"sk-toggleable__content\"><pre>StandardScaler()</pre></div></div></div></div></div></div></div></div></div></div><div class=\"sk-item\"><div class=\"sk-estimator sk-toggleable\"><input class=\"sk-toggleable__control sk-hidden--visually\" id=\"sk-estimator-id-6\" type=\"checkbox\" ><label for=\"sk-estimator-id-6\" class=\"sk-toggleable__label sk-toggleable__label-arrow\">ExtraTreesRegressor</label><div class=\"sk-toggleable__content\"><pre>ExtraTreesRegressor(max_depth=30, max_features=0.2, min_samples_split=3,\n",
       "                    n_estimators=260, n_jobs=-1, random_state=60)</pre></div></div></div></div></div></div></div>"
      ],
      "text/plain": [
       "Pipeline(steps=[('preprocessor',\n",
       "                 ColumnTransformer(transformers=[('num',\n",
       "                                                  Pipeline(steps=[('imputer',\n",
       "                                                                   KNNImputer(n_neighbors=10)),\n",
       "                                                                  ('scaler',\n",
       "                                                                   StandardScaler())]),\n",
       "                                                  ['sessionNumber', 'pageViews',\n",
       "                                                   'totalHits', 'sessionStart',\n",
       "                                                   'week_day', 'month',\n",
       "                                                   'hour'])])),\n",
       "                ('regressor',\n",
       "                 ExtraTreesRegressor(max_depth=30, max_features=0.2,\n",
       "                                     min_samples_split=3, n_estimators=260,\n",
       "                                     n_jobs=-1, random_state=60))])"
      ]
     },
     "execution_count": 35,
     "metadata": {},
     "output_type": "execute_result"
    }
   ],
   "source": [
    "def ETRmodel():\n",
    "    from sklearn.pipeline import Pipeline\n",
    "    from sklearn.impute import SimpleImputer\n",
    "    from sklearn.impute import KNNImputer\n",
    "    from sklearn.preprocessing import StandardScaler, OrdinalEncoder\n",
    "    from sklearn.compose import ColumnTransformer\n",
    "    from sklearn.ensemble import ExtraTreesRegressor as ETR\n",
    "    \n",
    "    # Feature definitions\n",
    "    num_features = ['sessionNumber', 'pageViews', 'totalHits', 'sessionStart',\n",
    "                    'week_day', 'month', 'hour']\n",
    "\n",
    "    # sel_num = ['sessionNumber', 'pageViews', 'totalHits' ,'sessionStart','new_visits','month','hour'] \n",
    "    # new_num = ['sessionNumber','pageViews','date', 'totalHits', 'sessionStart',\n",
    "    #        'gclIdPresent','totals.visits']\n",
    "\n",
    "    \n",
    "#     cat_features = ['browser','userChannel','geoNetwork.continent','geoNetwork.metro',\n",
    "#                    'geoNetwork.city','locationCountry', 'geoNetwork.region','geoNetwork.subContinent']\n",
    "\n",
    "#     #sel_cat =  ['browser','geoCluster','trafficSource','os','deviceType','userChannel',]\n",
    "    \n",
    "    # Numerical preprocessing pipeline\n",
    "    num_transformer = Pipeline(steps=[\n",
    "        ('imputer', KNNImputer(n_neighbors=10)),\n",
    "        ('scaler', StandardScaler())\n",
    "    ])\n",
    "    \n",
    "    # Column Transformer \n",
    "    preprocessor = ColumnTransformer(\n",
    "        transformers=[\n",
    "            ('num', num_transformer, num_features),\n",
    "        ],\n",
    "        remainder='drop'\n",
    "    )\n",
    "    \n",
    "    pipeline = Pipeline(steps=[\n",
    "        ('preprocessor', preprocessor),\n",
    "        ('regressor', ETR(\n",
    "            n_estimators=260,\n",
    "            max_depth=30,\n",
    "            max_features=0.2,\n",
    "            random_state=60,\n",
    "            min_samples_split=3,\n",
    "            n_jobs=-1\n",
    "        ))\n",
    "    ])\n",
    "    \n",
    "    return pipeline\n",
    "\n",
    "\n",
    "ETR_model = ETRmodel()\n",
    "ETR_model.fit(X_train, y_train)\n"
   ]
  },
  {
   "cell_type": "code",
   "execution_count": 36,
   "id": "0f4439ac",
   "metadata": {
    "execution": {
     "iopub.execute_input": "2025-07-27T09:39:28.131052Z",
     "iopub.status.busy": "2025-07-27T09:39:28.130050Z",
     "iopub.status.idle": "2025-07-27T09:39:30.691129Z",
     "shell.execute_reply": "2025-07-27T09:39:30.690169Z"
    },
    "papermill": {
     "duration": 2.584842,
     "end_time": "2025-07-27T09:39:30.692645",
     "exception": false,
     "start_time": "2025-07-27T09:39:28.107803",
     "status": "completed"
    },
    "tags": []
   },
   "outputs": [
    {
     "name": "stdout",
     "output_type": "stream",
     "text": [
      "Training R² score: 0.9816\n",
      "Validation R² score: 0.4384\n"
     ]
    }
   ],
   "source": [
    "#Checking ExtraTreesRegressor Model performance\n",
    "\n",
    "# Predict on training set\n",
    "y_train_pred = ETR_model.predict(X_train)\n",
    "r2_train = r2_score(y_train, y_train_pred)\n",
    "\n",
    "# Predict on validation set\n",
    "y_val_pred = ETR_model.predict(X_val)\n",
    "r2_val = r2_score(y_val, y_val_pred)\n",
    "\n",
    "# Print both\n",
    "print(f\"Training R² score: {r2_train:.4f}\")\n",
    "print(f\"Validation R² score: {r2_val:.4f}\")\n"
   ]
  },
  {
   "cell_type": "code",
   "execution_count": 37,
   "id": "8946873f",
   "metadata": {
    "execution": {
     "iopub.execute_input": "2025-07-27T09:39:30.727789Z",
     "iopub.status.busy": "2025-07-27T09:39:30.727466Z",
     "iopub.status.idle": "2025-07-27T09:39:31.037726Z",
     "shell.execute_reply": "2025-07-27T09:39:31.036836Z"
    },
    "papermill": {
     "duration": 0.329329,
     "end_time": "2025-07-27T09:39:31.039171",
     "exception": false,
     "start_time": "2025-07-27T09:39:30.709842",
     "status": "completed"
    },
    "tags": []
   },
   "outputs": [
    {
     "data": {
      "image/png": "[encoded data removed]",
      "text/plain": [
       "<Figure size 1000x600 with 1 Axes>"
      ]
     },
     "metadata": {},
     "output_type": "display_data"
    }
   ],
   "source": [
    "#Feature Importance for ExtraTreesRegressor\n",
    "\n",
    "regressor = ETR_model.named_steps['regressor']\n",
    "preprocessor = ETR_model.named_steps['preprocessor']\n",
    "\n",
    "importances = regressor.feature_importances_\n",
    "\n",
    "feature_names = preprocessor.get_feature_names_out()\n",
    "\n",
    "feature_importance_series = pd.Series(importances, index=feature_names)\n",
    "\n",
    "sorted_importances = feature_importance_series.sort_values(ascending=True)\n",
    "\n",
    "plt.figure(figsize=(10, 6))\n",
    "sorted_importances.plot(kind='barh')\n",
    "plt.title('Extra Trees Regressor Feature Importance')\n",
    "plt.xlabel('Importance Score')\n",
    "plt.ylabel('Features')\n",
    "plt.show()"
   ]
  },
  {
   "cell_type": "markdown",
   "id": "58a871f3",
   "metadata": {
    "papermill": {
     "duration": 0.017119,
     "end_time": "2025-07-27T09:39:31.074988",
     "exception": false,
     "start_time": "2025-07-27T09:39:31.057869",
     "status": "completed"
    },
    "tags": []
   },
   "source": [
    "## 6.4 Model Comparison and Analysis \n",
    "\n",
    "Based on the results, **ExtraTreesRegressor (ETR)** performed best among the three models:\n",
    "\n",
    "| Model | Training R2 | Validation R2 | Generalization Gap |\n",
    "|-------|-------------|---------------|---------------------|\n",
    "| **ETR** | 0.9838 | **0.4135** | 0.5703 |\n",
    "| RF    | 0.6139 | 0.2043 | 0.4096 |\n",
    "| XGB   | 0.8859 | 0.1067 | 0.7792 |\n",
    "\n",
    "---\n",
    "\n",
    "### ExtraTreesRegressor got:\n",
    "\n",
    "- **Best Validation Performance**: Achieved the highest R2 (0.4135) on unseen data.\n",
    "- **Better Generalization**: While it still overfits, the generalization gap is more manageable than XGBoost.\n",
    "- **Randomization Benefits**: The extreme randomization in ExtraTrees helps capture complex patterns without memorizing noise.\n",
    "\n",
    "---\n",
    "\n",
    "### XGBoost Performed Poorly:\n",
    "\n",
    "- **Severe Overfitting**: Massive gap between training (0.8859) and validation (0.1067) R2 score can be seen.\n",
    "\n"
   ]
  },
  {
   "cell_type": "markdown",
   "id": "2a165714",
   "metadata": {
    "papermill": {
     "duration": 0.017383,
     "end_time": "2025-07-27T09:39:31.109880",
     "exception": false,
     "start_time": "2025-07-27T09:39:31.092497",
     "status": "completed"
    },
    "tags": []
   },
   "source": [
    "# 7. Final Submission"
   ]
  },
  {
   "cell_type": "code",
   "execution_count": 38,
   "id": "415649e3",
   "metadata": {
    "execution": {
     "iopub.execute_input": "2025-07-27T09:39:31.146491Z",
     "iopub.status.busy": "2025-07-27T09:39:31.145501Z",
     "iopub.status.idle": "2025-07-27T09:39:31.149787Z",
     "shell.execute_reply": "2025-07-27T09:39:31.148861Z"
    },
    "papermill": {
     "duration": 0.024465,
     "end_time": "2025-07-27T09:39:31.151415",
     "exception": false,
     "start_time": "2025-07-27T09:39:31.126950",
     "status": "completed"
    },
    "tags": []
   },
   "outputs": [],
   "source": [
    "# # Xgboost\n",
    "# # fitting on the whole dataset now\n",
    "# XGB.fit(X, y)\n",
    "# y_pred = XGB.predict(test)"
   ]
  },
  {
   "cell_type": "code",
   "execution_count": 39,
   "id": "b56ca6af",
   "metadata": {
    "execution": {
     "iopub.execute_input": "2025-07-27T09:39:31.188621Z",
     "iopub.status.busy": "2025-07-27T09:39:31.188099Z",
     "iopub.status.idle": "2025-07-27T09:39:31.192495Z",
     "shell.execute_reply": "2025-07-27T09:39:31.191664Z"
    },
    "papermill": {
     "duration": 0.024374,
     "end_time": "2025-07-27T09:39:31.193803",
     "exception": false,
     "start_time": "2025-07-27T09:39:31.169429",
     "status": "completed"
    },
    "tags": []
   },
   "outputs": [],
   "source": [
    "# # RandomForestRegressor\n",
    "\n",
    "# RF_model.fit(X, y)\n",
    "# y_pred = RF_model.predict(test)"
   ]
  },
  {
   "cell_type": "code",
   "execution_count": 40,
   "id": "03767927",
   "metadata": {
    "execution": {
     "iopub.execute_input": "2025-07-27T09:39:31.230146Z",
     "iopub.status.busy": "2025-07-27T09:39:31.229844Z",
     "iopub.status.idle": "2025-07-27T09:39:36.720378Z",
     "shell.execute_reply": "2025-07-27T09:39:36.719490Z"
    },
    "papermill": {
     "duration": 5.510346,
     "end_time": "2025-07-27T09:39:36.722056",
     "exception": false,
     "start_time": "2025-07-27T09:39:31.211710",
     "status": "completed"
    },
    "tags": []
   },
   "outputs": [],
   "source": [
    "# ExtraTreesRegressor\n",
    "ETR_model.fit(X, y)\n",
    "y_pred = ETR_model.predict(test)"
   ]
  },
  {
   "cell_type": "code",
   "execution_count": 41,
   "id": "787ee391",
   "metadata": {
    "execution": {
     "iopub.execute_input": "2025-07-27T09:39:36.762701Z",
     "iopub.status.busy": "2025-07-27T09:39:36.762417Z",
     "iopub.status.idle": "2025-07-27T09:39:36.832126Z",
     "shell.execute_reply": "2025-07-27T09:39:36.831207Z"
    },
    "papermill": {
     "duration": 0.092276,
     "end_time": "2025-07-27T09:39:36.833877",
     "exception": false,
     "start_time": "2025-07-27T09:39:36.741601",
     "status": "completed"
    },
    "tags": []
   },
   "outputs": [],
   "source": [
    "#creating final submission fie:\n",
    "submission = pd.DataFrame({\"id\": np.arange(len(y_pred)),\"purchaseValue\": y_pred})\n",
    "submission.to_csv('/kaggle/working/submission.csv', index=False)"
   ]
  }
 ],
 "metadata": {
  "kaggle": {
   "accelerator": "none",
   "dataSources": [
    {
     "databundleVersionId": 11895149,
     "sourceId": 99546,
     "sourceType": "competition"
    }
   ],
   "dockerImageVersionId": 31040,
   "isGpuEnabled": false,
   "isInternetEnabled": true,
   "language": "python",
   "sourceType": "notebook"
  },
  "kernelspec": {
   "display_name": "Python 3",
   "language": "python",
   "name": "python3"
  },
  "language_info": {
   "codemirror_mode": {
    "name": "ipython",
    "version": 3
   },
   "file_extension": ".py",
   "mimetype": "text/x-python",
   "name": "python",
   "nbconvert_exporter": "python",
   "pygments_lexer": "ipython3",
   "version": "3.11.11"
  },
  "papermill": {
   "default_parameters": {},
   "duration": 31.641759,
   "end_time": "2025-07-27T09:39:37.672583",
   "environment_variables": {},
   "exception": null,
   "input_path": "__notebook__.ipynb",
   "output_path": "__notebook__.ipynb",
   "parameters": {},
   "start_time": "2025-07-27T09:39:06.030824",
   "version": "2.6.0"
  }
 },
 "nbformat": 4,
 "nbformat_minor": 5
}
